{
  "nbformat": 4,
  "nbformat_minor": 0,
  "metadata": {
    "colab": {
      "name": "PreProcessing + Simple RNN.ipynb",
      "provenance": []
    },
    "kernelspec": {
      "name": "python3",
      "display_name": "Python 3"
    },
    "language_info": {
      "name": "python"
    },
    "accelerator": "GPU",
    "gpuClass": "standard"
  },
  "cells": [
    {
      "cell_type": "markdown",
      "source": [
        "# Importing Dependencies"
      ],
      "metadata": {
        "id": "qoN4zRHATm3S"
      }
    },
    {
      "cell_type": "code",
      "source": [
        "import numpy as np # linear algebra\n",
        "import pandas as pd # data processing, CSV file I/O (e.g. pd.read_csv)\n",
        "import os\n",
        "import tensorflow as tf\n",
        "from tensorflow import keras\n",
        "import matplotlib.pyplot as plt\n",
        "import time\n",
        "from keras.preprocessing.text import Tokenizer\n",
        "from collections import Counter\n",
        "import re\n",
        "from keras import layers\n",
        "import nltk\n",
        "import string\n",
        "\n",
        "from nltk.corpus import stopwords \n",
        "from nltk.tokenize import word_tokenize \n",
        "nltk.download('stopwords')\n",
        "nltk.download('punkt')"
      ],
      "metadata": {
        "colab": {
          "base_uri": "https://localhost:8080/"
        },
        "id": "cyGw7hHnTk0z",
        "outputId": "506cdd5f-6962-4673-a1f4-5501dc581e9f"
      },
      "execution_count": 1,
      "outputs": [
        {
          "output_type": "stream",
          "name": "stderr",
          "text": [
            "[nltk_data] Downloading package stopwords to /root/nltk_data...\n",
            "[nltk_data]   Package stopwords is already up-to-date!\n",
            "[nltk_data] Downloading package punkt to /root/nltk_data...\n",
            "[nltk_data]   Package punkt is already up-to-date!\n"
          ]
        },
        {
          "output_type": "execute_result",
          "data": {
            "text/plain": [
              "True"
            ]
          },
          "metadata": {},
          "execution_count": 1
        }
      ]
    },
    {
      "cell_type": "markdown",
      "source": [
        "# Load Data"
      ],
      "metadata": {
        "id": "3IfBXSxBUIDB"
      }
    },
    {
      "cell_type": "code",
      "execution_count": 2,
      "metadata": {
        "colab": {
          "base_uri": "https://localhost:8080/",
          "height": 0
        },
        "id": "eG1jZYSq21VD",
        "outputId": "5982859a-2012-43db-f466-36102883ce14"
      },
      "outputs": [
        {
          "output_type": "execute_result",
          "data": {
            "text/plain": [
              "   Unnamed: 0                                              title  \\\n",
              "0        3461   Trump Will ANNHILILATE The Working Class He’s...   \n",
              "1       18596  Yemen Houthis say have shot down U.S. surveill...   \n",
              "2       16124  BREAKING NEWS: TRUMP ADMIN ANNOUNCES “MASSIVE ...   \n",
              "3       21151  U.S. Commerce Secretary wants NAFTA autos cont...   \n",
              "4       13857  U.S. warns of repercussions for Pakistan over ...   \n",
              "\n",
              "                                                text  Target  \n",
              "0  Throughout his campaign, Trump repeatedly told...       0  \n",
              "1  DUBAI (Reuters) - Yemen s Houthi forces shot d...       1  \n",
              "2  President Trump s  2017 Tax Reform for Economi...       0  \n",
              "3  MEXICO CITY (Reuters) - U.S. Commerce Secretar...       1  \n",
              "4  WASHINGTON (Reuters) - The White House said on...       1  "
            ],
            "text/html": [
              "\n",
              "  <div id=\"df-839c48a1-cf56-4271-8209-3a2ab090821a\">\n",
              "    <div class=\"colab-df-container\">\n",
              "      <div>\n",
              "<style scoped>\n",
              "    .dataframe tbody tr th:only-of-type {\n",
              "        vertical-align: middle;\n",
              "    }\n",
              "\n",
              "    .dataframe tbody tr th {\n",
              "        vertical-align: top;\n",
              "    }\n",
              "\n",
              "    .dataframe thead th {\n",
              "        text-align: right;\n",
              "    }\n",
              "</style>\n",
              "<table border=\"1\" class=\"dataframe\">\n",
              "  <thead>\n",
              "    <tr style=\"text-align: right;\">\n",
              "      <th></th>\n",
              "      <th>Unnamed: 0</th>\n",
              "      <th>title</th>\n",
              "      <th>text</th>\n",
              "      <th>Target</th>\n",
              "    </tr>\n",
              "  </thead>\n",
              "  <tbody>\n",
              "    <tr>\n",
              "      <th>0</th>\n",
              "      <td>3461</td>\n",
              "      <td>Trump Will ANNHILILATE The Working Class He’s...</td>\n",
              "      <td>Throughout his campaign, Trump repeatedly told...</td>\n",
              "      <td>0</td>\n",
              "    </tr>\n",
              "    <tr>\n",
              "      <th>1</th>\n",
              "      <td>18596</td>\n",
              "      <td>Yemen Houthis say have shot down U.S. surveill...</td>\n",
              "      <td>DUBAI (Reuters) - Yemen s Houthi forces shot d...</td>\n",
              "      <td>1</td>\n",
              "    </tr>\n",
              "    <tr>\n",
              "      <th>2</th>\n",
              "      <td>16124</td>\n",
              "      <td>BREAKING NEWS: TRUMP ADMIN ANNOUNCES “MASSIVE ...</td>\n",
              "      <td>President Trump s  2017 Tax Reform for Economi...</td>\n",
              "      <td>0</td>\n",
              "    </tr>\n",
              "    <tr>\n",
              "      <th>3</th>\n",
              "      <td>21151</td>\n",
              "      <td>U.S. Commerce Secretary wants NAFTA autos cont...</td>\n",
              "      <td>MEXICO CITY (Reuters) - U.S. Commerce Secretar...</td>\n",
              "      <td>1</td>\n",
              "    </tr>\n",
              "    <tr>\n",
              "      <th>4</th>\n",
              "      <td>13857</td>\n",
              "      <td>U.S. warns of repercussions for Pakistan over ...</td>\n",
              "      <td>WASHINGTON (Reuters) - The White House said on...</td>\n",
              "      <td>1</td>\n",
              "    </tr>\n",
              "  </tbody>\n",
              "</table>\n",
              "</div>\n",
              "      <button class=\"colab-df-convert\" onclick=\"convertToInteractive('df-839c48a1-cf56-4271-8209-3a2ab090821a')\"\n",
              "              title=\"Convert this dataframe to an interactive table.\"\n",
              "              style=\"display:none;\">\n",
              "        \n",
              "  <svg xmlns=\"http://www.w3.org/2000/svg\" height=\"24px\"viewBox=\"0 0 24 24\"\n",
              "       width=\"24px\">\n",
              "    <path d=\"M0 0h24v24H0V0z\" fill=\"none\"/>\n",
              "    <path d=\"M18.56 5.44l.94 2.06.94-2.06 2.06-.94-2.06-.94-.94-2.06-.94 2.06-2.06.94zm-11 1L8.5 8.5l.94-2.06 2.06-.94-2.06-.94L8.5 2.5l-.94 2.06-2.06.94zm10 10l.94 2.06.94-2.06 2.06-.94-2.06-.94-.94-2.06-.94 2.06-2.06.94z\"/><path d=\"M17.41 7.96l-1.37-1.37c-.4-.4-.92-.59-1.43-.59-.52 0-1.04.2-1.43.59L10.3 9.45l-7.72 7.72c-.78.78-.78 2.05 0 2.83L4 21.41c.39.39.9.59 1.41.59.51 0 1.02-.2 1.41-.59l7.78-7.78 2.81-2.81c.8-.78.8-2.07 0-2.86zM5.41 20L4 18.59l7.72-7.72 1.47 1.35L5.41 20z\"/>\n",
              "  </svg>\n",
              "      </button>\n",
              "      \n",
              "  <style>\n",
              "    .colab-df-container {\n",
              "      display:flex;\n",
              "      flex-wrap:wrap;\n",
              "      gap: 12px;\n",
              "    }\n",
              "\n",
              "    .colab-df-convert {\n",
              "      background-color: #E8F0FE;\n",
              "      border: none;\n",
              "      border-radius: 50%;\n",
              "      cursor: pointer;\n",
              "      display: none;\n",
              "      fill: #1967D2;\n",
              "      height: 32px;\n",
              "      padding: 0 0 0 0;\n",
              "      width: 32px;\n",
              "    }\n",
              "\n",
              "    .colab-df-convert:hover {\n",
              "      background-color: #E2EBFA;\n",
              "      box-shadow: 0px 1px 2px rgba(60, 64, 67, 0.3), 0px 1px 3px 1px rgba(60, 64, 67, 0.15);\n",
              "      fill: #174EA6;\n",
              "    }\n",
              "\n",
              "    [theme=dark] .colab-df-convert {\n",
              "      background-color: #3B4455;\n",
              "      fill: #D2E3FC;\n",
              "    }\n",
              "\n",
              "    [theme=dark] .colab-df-convert:hover {\n",
              "      background-color: #434B5C;\n",
              "      box-shadow: 0px 1px 3px 1px rgba(0, 0, 0, 0.15);\n",
              "      filter: drop-shadow(0px 1px 2px rgba(0, 0, 0, 0.3));\n",
              "      fill: #FFFFFF;\n",
              "    }\n",
              "  </style>\n",
              "\n",
              "      <script>\n",
              "        const buttonEl =\n",
              "          document.querySelector('#df-839c48a1-cf56-4271-8209-3a2ab090821a button.colab-df-convert');\n",
              "        buttonEl.style.display =\n",
              "          google.colab.kernel.accessAllowed ? 'block' : 'none';\n",
              "\n",
              "        async function convertToInteractive(key) {\n",
              "          const element = document.querySelector('#df-839c48a1-cf56-4271-8209-3a2ab090821a');\n",
              "          const dataTable =\n",
              "            await google.colab.kernel.invokeFunction('convertToInteractive',\n",
              "                                                     [key], {});\n",
              "          if (!dataTable) return;\n",
              "\n",
              "          const docLinkHtml = 'Like what you see? Visit the ' +\n",
              "            '<a target=\"_blank\" href=https://colab.research.google.com/notebooks/data_table.ipynb>data table notebook</a>'\n",
              "            + ' to learn more about interactive tables.';\n",
              "          element.innerHTML = '';\n",
              "          dataTable['output_type'] = 'display_data';\n",
              "          await google.colab.output.renderOutput(dataTable, element);\n",
              "          const docLink = document.createElement('div');\n",
              "          docLink.innerHTML = docLinkHtml;\n",
              "          element.appendChild(docLink);\n",
              "        }\n",
              "      </script>\n",
              "    </div>\n",
              "  </div>\n",
              "  "
            ]
          },
          "metadata": {},
          "execution_count": 2
        }
      ],
      "source": [
        "df = pd.read_csv(\"/content/drive/MyDrive/Final DataFrame.csv\")\n",
        "df.head()"
      ]
    },
    {
      "cell_type": "markdown",
      "source": [
        "# Preprocssing"
      ],
      "metadata": {
        "id": "VJShK5bRULor"
      }
    },
    {
      "cell_type": "code",
      "source": [
        "df.drop(['Unnamed: 0'],axis=1,inplace=True)\n",
        "df['Target'].value_counts()"
      ],
      "metadata": {
        "colab": {
          "base_uri": "https://localhost:8080/"
        },
        "id": "Gxy7B4Ax3aHT",
        "outputId": "8c828532-3325-49fe-ac29-e300cca1d230"
      },
      "execution_count": 3,
      "outputs": [
        {
          "output_type": "execute_result",
          "data": {
            "text/plain": [
              "0    23481\n",
              "1    21417\n",
              "Name: Target, dtype: int64"
            ]
          },
          "metadata": {},
          "execution_count": 3
        }
      ]
    },
    {
      "cell_type": "code",
      "source": [
        "df.head()"
      ],
      "metadata": {
        "colab": {
          "base_uri": "https://localhost:8080/",
          "height": 0
        },
        "id": "3hpPEu8H3khR",
        "outputId": "25fec44f-1136-47ac-f0bf-9e2ca41176d0"
      },
      "execution_count": 4,
      "outputs": [
        {
          "output_type": "execute_result",
          "data": {
            "text/plain": [
              "                                               title  \\\n",
              "0   Trump Will ANNHILILATE The Working Class He’s...   \n",
              "1  Yemen Houthis say have shot down U.S. surveill...   \n",
              "2  BREAKING NEWS: TRUMP ADMIN ANNOUNCES “MASSIVE ...   \n",
              "3  U.S. Commerce Secretary wants NAFTA autos cont...   \n",
              "4  U.S. warns of repercussions for Pakistan over ...   \n",
              "\n",
              "                                                text  Target  \n",
              "0  Throughout his campaign, Trump repeatedly told...       0  \n",
              "1  DUBAI (Reuters) - Yemen s Houthi forces shot d...       1  \n",
              "2  President Trump s  2017 Tax Reform for Economi...       0  \n",
              "3  MEXICO CITY (Reuters) - U.S. Commerce Secretar...       1  \n",
              "4  WASHINGTON (Reuters) - The White House said on...       1  "
            ],
            "text/html": [
              "\n",
              "  <div id=\"df-6213d4a1-c60e-423b-90cd-5e7ec8a89911\">\n",
              "    <div class=\"colab-df-container\">\n",
              "      <div>\n",
              "<style scoped>\n",
              "    .dataframe tbody tr th:only-of-type {\n",
              "        vertical-align: middle;\n",
              "    }\n",
              "\n",
              "    .dataframe tbody tr th {\n",
              "        vertical-align: top;\n",
              "    }\n",
              "\n",
              "    .dataframe thead th {\n",
              "        text-align: right;\n",
              "    }\n",
              "</style>\n",
              "<table border=\"1\" class=\"dataframe\">\n",
              "  <thead>\n",
              "    <tr style=\"text-align: right;\">\n",
              "      <th></th>\n",
              "      <th>title</th>\n",
              "      <th>text</th>\n",
              "      <th>Target</th>\n",
              "    </tr>\n",
              "  </thead>\n",
              "  <tbody>\n",
              "    <tr>\n",
              "      <th>0</th>\n",
              "      <td>Trump Will ANNHILILATE The Working Class He’s...</td>\n",
              "      <td>Throughout his campaign, Trump repeatedly told...</td>\n",
              "      <td>0</td>\n",
              "    </tr>\n",
              "    <tr>\n",
              "      <th>1</th>\n",
              "      <td>Yemen Houthis say have shot down U.S. surveill...</td>\n",
              "      <td>DUBAI (Reuters) - Yemen s Houthi forces shot d...</td>\n",
              "      <td>1</td>\n",
              "    </tr>\n",
              "    <tr>\n",
              "      <th>2</th>\n",
              "      <td>BREAKING NEWS: TRUMP ADMIN ANNOUNCES “MASSIVE ...</td>\n",
              "      <td>President Trump s  2017 Tax Reform for Economi...</td>\n",
              "      <td>0</td>\n",
              "    </tr>\n",
              "    <tr>\n",
              "      <th>3</th>\n",
              "      <td>U.S. Commerce Secretary wants NAFTA autos cont...</td>\n",
              "      <td>MEXICO CITY (Reuters) - U.S. Commerce Secretar...</td>\n",
              "      <td>1</td>\n",
              "    </tr>\n",
              "    <tr>\n",
              "      <th>4</th>\n",
              "      <td>U.S. warns of repercussions for Pakistan over ...</td>\n",
              "      <td>WASHINGTON (Reuters) - The White House said on...</td>\n",
              "      <td>1</td>\n",
              "    </tr>\n",
              "  </tbody>\n",
              "</table>\n",
              "</div>\n",
              "      <button class=\"colab-df-convert\" onclick=\"convertToInteractive('df-6213d4a1-c60e-423b-90cd-5e7ec8a89911')\"\n",
              "              title=\"Convert this dataframe to an interactive table.\"\n",
              "              style=\"display:none;\">\n",
              "        \n",
              "  <svg xmlns=\"http://www.w3.org/2000/svg\" height=\"24px\"viewBox=\"0 0 24 24\"\n",
              "       width=\"24px\">\n",
              "    <path d=\"M0 0h24v24H0V0z\" fill=\"none\"/>\n",
              "    <path d=\"M18.56 5.44l.94 2.06.94-2.06 2.06-.94-2.06-.94-.94-2.06-.94 2.06-2.06.94zm-11 1L8.5 8.5l.94-2.06 2.06-.94-2.06-.94L8.5 2.5l-.94 2.06-2.06.94zm10 10l.94 2.06.94-2.06 2.06-.94-2.06-.94-.94-2.06-.94 2.06-2.06.94z\"/><path d=\"M17.41 7.96l-1.37-1.37c-.4-.4-.92-.59-1.43-.59-.52 0-1.04.2-1.43.59L10.3 9.45l-7.72 7.72c-.78.78-.78 2.05 0 2.83L4 21.41c.39.39.9.59 1.41.59.51 0 1.02-.2 1.41-.59l7.78-7.78 2.81-2.81c.8-.78.8-2.07 0-2.86zM5.41 20L4 18.59l7.72-7.72 1.47 1.35L5.41 20z\"/>\n",
              "  </svg>\n",
              "      </button>\n",
              "      \n",
              "  <style>\n",
              "    .colab-df-container {\n",
              "      display:flex;\n",
              "      flex-wrap:wrap;\n",
              "      gap: 12px;\n",
              "    }\n",
              "\n",
              "    .colab-df-convert {\n",
              "      background-color: #E8F0FE;\n",
              "      border: none;\n",
              "      border-radius: 50%;\n",
              "      cursor: pointer;\n",
              "      display: none;\n",
              "      fill: #1967D2;\n",
              "      height: 32px;\n",
              "      padding: 0 0 0 0;\n",
              "      width: 32px;\n",
              "    }\n",
              "\n",
              "    .colab-df-convert:hover {\n",
              "      background-color: #E2EBFA;\n",
              "      box-shadow: 0px 1px 2px rgba(60, 64, 67, 0.3), 0px 1px 3px 1px rgba(60, 64, 67, 0.15);\n",
              "      fill: #174EA6;\n",
              "    }\n",
              "\n",
              "    [theme=dark] .colab-df-convert {\n",
              "      background-color: #3B4455;\n",
              "      fill: #D2E3FC;\n",
              "    }\n",
              "\n",
              "    [theme=dark] .colab-df-convert:hover {\n",
              "      background-color: #434B5C;\n",
              "      box-shadow: 0px 1px 3px 1px rgba(0, 0, 0, 0.15);\n",
              "      filter: drop-shadow(0px 1px 2px rgba(0, 0, 0, 0.3));\n",
              "      fill: #FFFFFF;\n",
              "    }\n",
              "  </style>\n",
              "\n",
              "      <script>\n",
              "        const buttonEl =\n",
              "          document.querySelector('#df-6213d4a1-c60e-423b-90cd-5e7ec8a89911 button.colab-df-convert');\n",
              "        buttonEl.style.display =\n",
              "          google.colab.kernel.accessAllowed ? 'block' : 'none';\n",
              "\n",
              "        async function convertToInteractive(key) {\n",
              "          const element = document.querySelector('#df-6213d4a1-c60e-423b-90cd-5e7ec8a89911');\n",
              "          const dataTable =\n",
              "            await google.colab.kernel.invokeFunction('convertToInteractive',\n",
              "                                                     [key], {});\n",
              "          if (!dataTable) return;\n",
              "\n",
              "          const docLinkHtml = 'Like what you see? Visit the ' +\n",
              "            '<a target=\"_blank\" href=https://colab.research.google.com/notebooks/data_table.ipynb>data table notebook</a>'\n",
              "            + ' to learn more about interactive tables.';\n",
              "          element.innerHTML = '';\n",
              "          dataTable['output_type'] = 'display_data';\n",
              "          await google.colab.output.renderOutput(dataTable, element);\n",
              "          const docLink = document.createElement('div');\n",
              "          docLink.innerHTML = docLinkHtml;\n",
              "          element.appendChild(docLink);\n",
              "        }\n",
              "      </script>\n",
              "    </div>\n",
              "  </div>\n",
              "  "
            ]
          },
          "metadata": {},
          "execution_count": 4
        }
      ]
    },
    {
      "cell_type": "code",
      "source": [
        "# Text lowercase\n",
        "def lowercase_text(text): \n",
        "    return text.lower() \n",
        "\n",
        "# example\n",
        "input_str = \"Weather is too Cloudy.Possiblity of Rain is High,Today!!\"\n",
        "lowercase_text(input_str)"
      ],
      "metadata": {
        "colab": {
          "base_uri": "https://localhost:8080/",
          "height": 0
        },
        "id": "UqrtcHs74Lmf",
        "outputId": "8e434035-41f5-481d-9100-4a015385cb62"
      },
      "execution_count": 5,
      "outputs": [
        {
          "output_type": "execute_result",
          "data": {
            "text/plain": [
              "'weather is too cloudy.possiblity of rain is high,today!!'"
            ],
            "application/vnd.google.colaboratory.intrinsic+json": {
              "type": "string"
            }
          },
          "metadata": {},
          "execution_count": 5
        }
      ]
    },
    {
      "cell_type": "code",
      "source": [
        "df[\"text\"] = df[\"text\"].apply(lowercase_text)\n",
        "df.head()"
      ],
      "metadata": {
        "colab": {
          "base_uri": "https://localhost:8080/",
          "height": 0
        },
        "id": "TeV1pylGay6N",
        "outputId": "2cf7f27d-5381-4328-9134-f954db876194"
      },
      "execution_count": 6,
      "outputs": [
        {
          "output_type": "execute_result",
          "data": {
            "text/plain": [
              "                                               title  \\\n",
              "0   Trump Will ANNHILILATE The Working Class He’s...   \n",
              "1  Yemen Houthis say have shot down U.S. surveill...   \n",
              "2  BREAKING NEWS: TRUMP ADMIN ANNOUNCES “MASSIVE ...   \n",
              "3  U.S. Commerce Secretary wants NAFTA autos cont...   \n",
              "4  U.S. warns of repercussions for Pakistan over ...   \n",
              "\n",
              "                                                text  Target  \n",
              "0  throughout his campaign, trump repeatedly told...       0  \n",
              "1  dubai (reuters) - yemen s houthi forces shot d...       1  \n",
              "2  president trump s  2017 tax reform for economi...       0  \n",
              "3  mexico city (reuters) - u.s. commerce secretar...       1  \n",
              "4  washington (reuters) - the white house said on...       1  "
            ],
            "text/html": [
              "\n",
              "  <div id=\"df-4e426340-2154-4c82-aa93-ca297ff28a28\">\n",
              "    <div class=\"colab-df-container\">\n",
              "      <div>\n",
              "<style scoped>\n",
              "    .dataframe tbody tr th:only-of-type {\n",
              "        vertical-align: middle;\n",
              "    }\n",
              "\n",
              "    .dataframe tbody tr th {\n",
              "        vertical-align: top;\n",
              "    }\n",
              "\n",
              "    .dataframe thead th {\n",
              "        text-align: right;\n",
              "    }\n",
              "</style>\n",
              "<table border=\"1\" class=\"dataframe\">\n",
              "  <thead>\n",
              "    <tr style=\"text-align: right;\">\n",
              "      <th></th>\n",
              "      <th>title</th>\n",
              "      <th>text</th>\n",
              "      <th>Target</th>\n",
              "    </tr>\n",
              "  </thead>\n",
              "  <tbody>\n",
              "    <tr>\n",
              "      <th>0</th>\n",
              "      <td>Trump Will ANNHILILATE The Working Class He’s...</td>\n",
              "      <td>throughout his campaign, trump repeatedly told...</td>\n",
              "      <td>0</td>\n",
              "    </tr>\n",
              "    <tr>\n",
              "      <th>1</th>\n",
              "      <td>Yemen Houthis say have shot down U.S. surveill...</td>\n",
              "      <td>dubai (reuters) - yemen s houthi forces shot d...</td>\n",
              "      <td>1</td>\n",
              "    </tr>\n",
              "    <tr>\n",
              "      <th>2</th>\n",
              "      <td>BREAKING NEWS: TRUMP ADMIN ANNOUNCES “MASSIVE ...</td>\n",
              "      <td>president trump s  2017 tax reform for economi...</td>\n",
              "      <td>0</td>\n",
              "    </tr>\n",
              "    <tr>\n",
              "      <th>3</th>\n",
              "      <td>U.S. Commerce Secretary wants NAFTA autos cont...</td>\n",
              "      <td>mexico city (reuters) - u.s. commerce secretar...</td>\n",
              "      <td>1</td>\n",
              "    </tr>\n",
              "    <tr>\n",
              "      <th>4</th>\n",
              "      <td>U.S. warns of repercussions for Pakistan over ...</td>\n",
              "      <td>washington (reuters) - the white house said on...</td>\n",
              "      <td>1</td>\n",
              "    </tr>\n",
              "  </tbody>\n",
              "</table>\n",
              "</div>\n",
              "      <button class=\"colab-df-convert\" onclick=\"convertToInteractive('df-4e426340-2154-4c82-aa93-ca297ff28a28')\"\n",
              "              title=\"Convert this dataframe to an interactive table.\"\n",
              "              style=\"display:none;\">\n",
              "        \n",
              "  <svg xmlns=\"http://www.w3.org/2000/svg\" height=\"24px\"viewBox=\"0 0 24 24\"\n",
              "       width=\"24px\">\n",
              "    <path d=\"M0 0h24v24H0V0z\" fill=\"none\"/>\n",
              "    <path d=\"M18.56 5.44l.94 2.06.94-2.06 2.06-.94-2.06-.94-.94-2.06-.94 2.06-2.06.94zm-11 1L8.5 8.5l.94-2.06 2.06-.94-2.06-.94L8.5 2.5l-.94 2.06-2.06.94zm10 10l.94 2.06.94-2.06 2.06-.94-2.06-.94-.94-2.06-.94 2.06-2.06.94z\"/><path d=\"M17.41 7.96l-1.37-1.37c-.4-.4-.92-.59-1.43-.59-.52 0-1.04.2-1.43.59L10.3 9.45l-7.72 7.72c-.78.78-.78 2.05 0 2.83L4 21.41c.39.39.9.59 1.41.59.51 0 1.02-.2 1.41-.59l7.78-7.78 2.81-2.81c.8-.78.8-2.07 0-2.86zM5.41 20L4 18.59l7.72-7.72 1.47 1.35L5.41 20z\"/>\n",
              "  </svg>\n",
              "      </button>\n",
              "      \n",
              "  <style>\n",
              "    .colab-df-container {\n",
              "      display:flex;\n",
              "      flex-wrap:wrap;\n",
              "      gap: 12px;\n",
              "    }\n",
              "\n",
              "    .colab-df-convert {\n",
              "      background-color: #E8F0FE;\n",
              "      border: none;\n",
              "      border-radius: 50%;\n",
              "      cursor: pointer;\n",
              "      display: none;\n",
              "      fill: #1967D2;\n",
              "      height: 32px;\n",
              "      padding: 0 0 0 0;\n",
              "      width: 32px;\n",
              "    }\n",
              "\n",
              "    .colab-df-convert:hover {\n",
              "      background-color: #E2EBFA;\n",
              "      box-shadow: 0px 1px 2px rgba(60, 64, 67, 0.3), 0px 1px 3px 1px rgba(60, 64, 67, 0.15);\n",
              "      fill: #174EA6;\n",
              "    }\n",
              "\n",
              "    [theme=dark] .colab-df-convert {\n",
              "      background-color: #3B4455;\n",
              "      fill: #D2E3FC;\n",
              "    }\n",
              "\n",
              "    [theme=dark] .colab-df-convert:hover {\n",
              "      background-color: #434B5C;\n",
              "      box-shadow: 0px 1px 3px 1px rgba(0, 0, 0, 0.15);\n",
              "      filter: drop-shadow(0px 1px 2px rgba(0, 0, 0, 0.3));\n",
              "      fill: #FFFFFF;\n",
              "    }\n",
              "  </style>\n",
              "\n",
              "      <script>\n",
              "        const buttonEl =\n",
              "          document.querySelector('#df-4e426340-2154-4c82-aa93-ca297ff28a28 button.colab-df-convert');\n",
              "        buttonEl.style.display =\n",
              "          google.colab.kernel.accessAllowed ? 'block' : 'none';\n",
              "\n",
              "        async function convertToInteractive(key) {\n",
              "          const element = document.querySelector('#df-4e426340-2154-4c82-aa93-ca297ff28a28');\n",
              "          const dataTable =\n",
              "            await google.colab.kernel.invokeFunction('convertToInteractive',\n",
              "                                                     [key], {});\n",
              "          if (!dataTable) return;\n",
              "\n",
              "          const docLinkHtml = 'Like what you see? Visit the ' +\n",
              "            '<a target=\"_blank\" href=https://colab.research.google.com/notebooks/data_table.ipynb>data table notebook</a>'\n",
              "            + ' to learn more about interactive tables.';\n",
              "          element.innerHTML = '';\n",
              "          dataTable['output_type'] = 'display_data';\n",
              "          await google.colab.output.renderOutput(dataTable, element);\n",
              "          const docLink = document.createElement('div');\n",
              "          docLink.innerHTML = docLinkHtml;\n",
              "          element.appendChild(docLink);\n",
              "        }\n",
              "      </script>\n",
              "    </div>\n",
              "  </div>\n",
              "  "
            ]
          },
          "metadata": {},
          "execution_count": 6
        }
      ]
    },
    {
      "cell_type": "code",
      "source": [
        "# For Removing numbers \n",
        "def remove_num(text): \n",
        "    result = re.sub(r'\\d+', '', text) \n",
        "    return result \n",
        "  \n",
        "input_s = \"You bought 6 candies from shop, and 4 candies are in home.\"\n",
        "remove_num(input_s)"
      ],
      "metadata": {
        "colab": {
          "base_uri": "https://localhost:8080/",
          "height": 0
        },
        "id": "V6CgYUoMa-TU",
        "outputId": "dfc898b3-02c1-4279-9d31-8791b65bd922"
      },
      "execution_count": 7,
      "outputs": [
        {
          "output_type": "execute_result",
          "data": {
            "text/plain": [
              "'You bought  candies from shop, and  candies are in home.'"
            ],
            "application/vnd.google.colaboratory.intrinsic+json": {
              "type": "string"
            }
          },
          "metadata": {},
          "execution_count": 7
        }
      ]
    },
    {
      "cell_type": "code",
      "source": [
        "df[\"text\"] = df[\"text\"].apply(remove_num)\n",
        "df.head()"
      ],
      "metadata": {
        "colab": {
          "base_uri": "https://localhost:8080/",
          "height": 0
        },
        "id": "qON34-dFbDcl",
        "outputId": "453c9653-d079-49c4-b015-32c23ba1373b"
      },
      "execution_count": 8,
      "outputs": [
        {
          "output_type": "execute_result",
          "data": {
            "text/plain": [
              "                                               title  \\\n",
              "0   Trump Will ANNHILILATE The Working Class He’s...   \n",
              "1  Yemen Houthis say have shot down U.S. surveill...   \n",
              "2  BREAKING NEWS: TRUMP ADMIN ANNOUNCES “MASSIVE ...   \n",
              "3  U.S. Commerce Secretary wants NAFTA autos cont...   \n",
              "4  U.S. warns of repercussions for Pakistan over ...   \n",
              "\n",
              "                                                text  Target  \n",
              "0  throughout his campaign, trump repeatedly told...       0  \n",
              "1  dubai (reuters) - yemen s houthi forces shot d...       1  \n",
              "2  president trump s   tax reform for economic gr...       0  \n",
              "3  mexico city (reuters) - u.s. commerce secretar...       1  \n",
              "4  washington (reuters) - the white house said on...       1  "
            ],
            "text/html": [
              "\n",
              "  <div id=\"df-9ecabce2-5258-498e-be8e-0f6883c1d793\">\n",
              "    <div class=\"colab-df-container\">\n",
              "      <div>\n",
              "<style scoped>\n",
              "    .dataframe tbody tr th:only-of-type {\n",
              "        vertical-align: middle;\n",
              "    }\n",
              "\n",
              "    .dataframe tbody tr th {\n",
              "        vertical-align: top;\n",
              "    }\n",
              "\n",
              "    .dataframe thead th {\n",
              "        text-align: right;\n",
              "    }\n",
              "</style>\n",
              "<table border=\"1\" class=\"dataframe\">\n",
              "  <thead>\n",
              "    <tr style=\"text-align: right;\">\n",
              "      <th></th>\n",
              "      <th>title</th>\n",
              "      <th>text</th>\n",
              "      <th>Target</th>\n",
              "    </tr>\n",
              "  </thead>\n",
              "  <tbody>\n",
              "    <tr>\n",
              "      <th>0</th>\n",
              "      <td>Trump Will ANNHILILATE The Working Class He’s...</td>\n",
              "      <td>throughout his campaign, trump repeatedly told...</td>\n",
              "      <td>0</td>\n",
              "    </tr>\n",
              "    <tr>\n",
              "      <th>1</th>\n",
              "      <td>Yemen Houthis say have shot down U.S. surveill...</td>\n",
              "      <td>dubai (reuters) - yemen s houthi forces shot d...</td>\n",
              "      <td>1</td>\n",
              "    </tr>\n",
              "    <tr>\n",
              "      <th>2</th>\n",
              "      <td>BREAKING NEWS: TRUMP ADMIN ANNOUNCES “MASSIVE ...</td>\n",
              "      <td>president trump s   tax reform for economic gr...</td>\n",
              "      <td>0</td>\n",
              "    </tr>\n",
              "    <tr>\n",
              "      <th>3</th>\n",
              "      <td>U.S. Commerce Secretary wants NAFTA autos cont...</td>\n",
              "      <td>mexico city (reuters) - u.s. commerce secretar...</td>\n",
              "      <td>1</td>\n",
              "    </tr>\n",
              "    <tr>\n",
              "      <th>4</th>\n",
              "      <td>U.S. warns of repercussions for Pakistan over ...</td>\n",
              "      <td>washington (reuters) - the white house said on...</td>\n",
              "      <td>1</td>\n",
              "    </tr>\n",
              "  </tbody>\n",
              "</table>\n",
              "</div>\n",
              "      <button class=\"colab-df-convert\" onclick=\"convertToInteractive('df-9ecabce2-5258-498e-be8e-0f6883c1d793')\"\n",
              "              title=\"Convert this dataframe to an interactive table.\"\n",
              "              style=\"display:none;\">\n",
              "        \n",
              "  <svg xmlns=\"http://www.w3.org/2000/svg\" height=\"24px\"viewBox=\"0 0 24 24\"\n",
              "       width=\"24px\">\n",
              "    <path d=\"M0 0h24v24H0V0z\" fill=\"none\"/>\n",
              "    <path d=\"M18.56 5.44l.94 2.06.94-2.06 2.06-.94-2.06-.94-.94-2.06-.94 2.06-2.06.94zm-11 1L8.5 8.5l.94-2.06 2.06-.94-2.06-.94L8.5 2.5l-.94 2.06-2.06.94zm10 10l.94 2.06.94-2.06 2.06-.94-2.06-.94-.94-2.06-.94 2.06-2.06.94z\"/><path d=\"M17.41 7.96l-1.37-1.37c-.4-.4-.92-.59-1.43-.59-.52 0-1.04.2-1.43.59L10.3 9.45l-7.72 7.72c-.78.78-.78 2.05 0 2.83L4 21.41c.39.39.9.59 1.41.59.51 0 1.02-.2 1.41-.59l7.78-7.78 2.81-2.81c.8-.78.8-2.07 0-2.86zM5.41 20L4 18.59l7.72-7.72 1.47 1.35L5.41 20z\"/>\n",
              "  </svg>\n",
              "      </button>\n",
              "      \n",
              "  <style>\n",
              "    .colab-df-container {\n",
              "      display:flex;\n",
              "      flex-wrap:wrap;\n",
              "      gap: 12px;\n",
              "    }\n",
              "\n",
              "    .colab-df-convert {\n",
              "      background-color: #E8F0FE;\n",
              "      border: none;\n",
              "      border-radius: 50%;\n",
              "      cursor: pointer;\n",
              "      display: none;\n",
              "      fill: #1967D2;\n",
              "      height: 32px;\n",
              "      padding: 0 0 0 0;\n",
              "      width: 32px;\n",
              "    }\n",
              "\n",
              "    .colab-df-convert:hover {\n",
              "      background-color: #E2EBFA;\n",
              "      box-shadow: 0px 1px 2px rgba(60, 64, 67, 0.3), 0px 1px 3px 1px rgba(60, 64, 67, 0.15);\n",
              "      fill: #174EA6;\n",
              "    }\n",
              "\n",
              "    [theme=dark] .colab-df-convert {\n",
              "      background-color: #3B4455;\n",
              "      fill: #D2E3FC;\n",
              "    }\n",
              "\n",
              "    [theme=dark] .colab-df-convert:hover {\n",
              "      background-color: #434B5C;\n",
              "      box-shadow: 0px 1px 3px 1px rgba(0, 0, 0, 0.15);\n",
              "      filter: drop-shadow(0px 1px 2px rgba(0, 0, 0, 0.3));\n",
              "      fill: #FFFFFF;\n",
              "    }\n",
              "  </style>\n",
              "\n",
              "      <script>\n",
              "        const buttonEl =\n",
              "          document.querySelector('#df-9ecabce2-5258-498e-be8e-0f6883c1d793 button.colab-df-convert');\n",
              "        buttonEl.style.display =\n",
              "          google.colab.kernel.accessAllowed ? 'block' : 'none';\n",
              "\n",
              "        async function convertToInteractive(key) {\n",
              "          const element = document.querySelector('#df-9ecabce2-5258-498e-be8e-0f6883c1d793');\n",
              "          const dataTable =\n",
              "            await google.colab.kernel.invokeFunction('convertToInteractive',\n",
              "                                                     [key], {});\n",
              "          if (!dataTable) return;\n",
              "\n",
              "          const docLinkHtml = 'Like what you see? Visit the ' +\n",
              "            '<a target=\"_blank\" href=https://colab.research.google.com/notebooks/data_table.ipynb>data table notebook</a>'\n",
              "            + ' to learn more about interactive tables.';\n",
              "          element.innerHTML = '';\n",
              "          dataTable['output_type'] = 'display_data';\n",
              "          await google.colab.output.renderOutput(dataTable, element);\n",
              "          const docLink = document.createElement('div');\n",
              "          docLink.innerHTML = docLinkHtml;\n",
              "          element.appendChild(docLink);\n",
              "        }\n",
              "      </script>\n",
              "    </div>\n",
              "  </div>\n",
              "  "
            ]
          },
          "metadata": {},
          "execution_count": 8
        }
      ]
    },
    {
      "cell_type": "code",
      "source": [
        "# removing punctuation \n",
        "def rem_punct(text): \n",
        "    translator = str.maketrans('', '', string.punctuation) \n",
        "    return text.translate(translator) \n",
        "  \n",
        "input_str = \"Hey, Are you excited??, After a week, we will be in Shimla!!!\"\n",
        "rem_punct(input_str)"
      ],
      "metadata": {
        "colab": {
          "base_uri": "https://localhost:8080/",
          "height": 0
        },
        "id": "d3ASyWPYbFZ9",
        "outputId": "93de9d94-a009-4231-8b31-b509f61742d4"
      },
      "execution_count": 9,
      "outputs": [
        {
          "output_type": "execute_result",
          "data": {
            "text/plain": [
              "'Hey Are you excited After a week we will be in Shimla'"
            ],
            "application/vnd.google.colaboratory.intrinsic+json": {
              "type": "string"
            }
          },
          "metadata": {},
          "execution_count": 9
        }
      ]
    },
    {
      "cell_type": "code",
      "source": [
        "df[\"text\"] = df[\"text\"].apply(rem_punct)\n",
        "df.head()"
      ],
      "metadata": {
        "colab": {
          "base_uri": "https://localhost:8080/",
          "height": 0
        },
        "id": "SFpOD2OqbMCc",
        "outputId": "aca3f9bd-9cf8-4826-d83b-5499a31ac3f3"
      },
      "execution_count": 10,
      "outputs": [
        {
          "output_type": "execute_result",
          "data": {
            "text/plain": [
              "                                               title  \\\n",
              "0   Trump Will ANNHILILATE The Working Class He’s...   \n",
              "1  Yemen Houthis say have shot down U.S. surveill...   \n",
              "2  BREAKING NEWS: TRUMP ADMIN ANNOUNCES “MASSIVE ...   \n",
              "3  U.S. Commerce Secretary wants NAFTA autos cont...   \n",
              "4  U.S. warns of repercussions for Pakistan over ...   \n",
              "\n",
              "                                                text  Target  \n",
              "0  throughout his campaign trump repeatedly told ...       0  \n",
              "1  dubai reuters  yemen s houthi forces shot down...       1  \n",
              "2  president trump s   tax reform for economic gr...       0  \n",
              "3  mexico city reuters  us commerce secretary wil...       1  \n",
              "4  washington reuters  the white house said on sa...       1  "
            ],
            "text/html": [
              "\n",
              "  <div id=\"df-0fe2e540-e554-4e15-8811-4dd355c39241\">\n",
              "    <div class=\"colab-df-container\">\n",
              "      <div>\n",
              "<style scoped>\n",
              "    .dataframe tbody tr th:only-of-type {\n",
              "        vertical-align: middle;\n",
              "    }\n",
              "\n",
              "    .dataframe tbody tr th {\n",
              "        vertical-align: top;\n",
              "    }\n",
              "\n",
              "    .dataframe thead th {\n",
              "        text-align: right;\n",
              "    }\n",
              "</style>\n",
              "<table border=\"1\" class=\"dataframe\">\n",
              "  <thead>\n",
              "    <tr style=\"text-align: right;\">\n",
              "      <th></th>\n",
              "      <th>title</th>\n",
              "      <th>text</th>\n",
              "      <th>Target</th>\n",
              "    </tr>\n",
              "  </thead>\n",
              "  <tbody>\n",
              "    <tr>\n",
              "      <th>0</th>\n",
              "      <td>Trump Will ANNHILILATE The Working Class He’s...</td>\n",
              "      <td>throughout his campaign trump repeatedly told ...</td>\n",
              "      <td>0</td>\n",
              "    </tr>\n",
              "    <tr>\n",
              "      <th>1</th>\n",
              "      <td>Yemen Houthis say have shot down U.S. surveill...</td>\n",
              "      <td>dubai reuters  yemen s houthi forces shot down...</td>\n",
              "      <td>1</td>\n",
              "    </tr>\n",
              "    <tr>\n",
              "      <th>2</th>\n",
              "      <td>BREAKING NEWS: TRUMP ADMIN ANNOUNCES “MASSIVE ...</td>\n",
              "      <td>president trump s   tax reform for economic gr...</td>\n",
              "      <td>0</td>\n",
              "    </tr>\n",
              "    <tr>\n",
              "      <th>3</th>\n",
              "      <td>U.S. Commerce Secretary wants NAFTA autos cont...</td>\n",
              "      <td>mexico city reuters  us commerce secretary wil...</td>\n",
              "      <td>1</td>\n",
              "    </tr>\n",
              "    <tr>\n",
              "      <th>4</th>\n",
              "      <td>U.S. warns of repercussions for Pakistan over ...</td>\n",
              "      <td>washington reuters  the white house said on sa...</td>\n",
              "      <td>1</td>\n",
              "    </tr>\n",
              "  </tbody>\n",
              "</table>\n",
              "</div>\n",
              "      <button class=\"colab-df-convert\" onclick=\"convertToInteractive('df-0fe2e540-e554-4e15-8811-4dd355c39241')\"\n",
              "              title=\"Convert this dataframe to an interactive table.\"\n",
              "              style=\"display:none;\">\n",
              "        \n",
              "  <svg xmlns=\"http://www.w3.org/2000/svg\" height=\"24px\"viewBox=\"0 0 24 24\"\n",
              "       width=\"24px\">\n",
              "    <path d=\"M0 0h24v24H0V0z\" fill=\"none\"/>\n",
              "    <path d=\"M18.56 5.44l.94 2.06.94-2.06 2.06-.94-2.06-.94-.94-2.06-.94 2.06-2.06.94zm-11 1L8.5 8.5l.94-2.06 2.06-.94-2.06-.94L8.5 2.5l-.94 2.06-2.06.94zm10 10l.94 2.06.94-2.06 2.06-.94-2.06-.94-.94-2.06-.94 2.06-2.06.94z\"/><path d=\"M17.41 7.96l-1.37-1.37c-.4-.4-.92-.59-1.43-.59-.52 0-1.04.2-1.43.59L10.3 9.45l-7.72 7.72c-.78.78-.78 2.05 0 2.83L4 21.41c.39.39.9.59 1.41.59.51 0 1.02-.2 1.41-.59l7.78-7.78 2.81-2.81c.8-.78.8-2.07 0-2.86zM5.41 20L4 18.59l7.72-7.72 1.47 1.35L5.41 20z\"/>\n",
              "  </svg>\n",
              "      </button>\n",
              "      \n",
              "  <style>\n",
              "    .colab-df-container {\n",
              "      display:flex;\n",
              "      flex-wrap:wrap;\n",
              "      gap: 12px;\n",
              "    }\n",
              "\n",
              "    .colab-df-convert {\n",
              "      background-color: #E8F0FE;\n",
              "      border: none;\n",
              "      border-radius: 50%;\n",
              "      cursor: pointer;\n",
              "      display: none;\n",
              "      fill: #1967D2;\n",
              "      height: 32px;\n",
              "      padding: 0 0 0 0;\n",
              "      width: 32px;\n",
              "    }\n",
              "\n",
              "    .colab-df-convert:hover {\n",
              "      background-color: #E2EBFA;\n",
              "      box-shadow: 0px 1px 2px rgba(60, 64, 67, 0.3), 0px 1px 3px 1px rgba(60, 64, 67, 0.15);\n",
              "      fill: #174EA6;\n",
              "    }\n",
              "\n",
              "    [theme=dark] .colab-df-convert {\n",
              "      background-color: #3B4455;\n",
              "      fill: #D2E3FC;\n",
              "    }\n",
              "\n",
              "    [theme=dark] .colab-df-convert:hover {\n",
              "      background-color: #434B5C;\n",
              "      box-shadow: 0px 1px 3px 1px rgba(0, 0, 0, 0.15);\n",
              "      filter: drop-shadow(0px 1px 2px rgba(0, 0, 0, 0.3));\n",
              "      fill: #FFFFFF;\n",
              "    }\n",
              "  </style>\n",
              "\n",
              "      <script>\n",
              "        const buttonEl =\n",
              "          document.querySelector('#df-0fe2e540-e554-4e15-8811-4dd355c39241 button.colab-df-convert');\n",
              "        buttonEl.style.display =\n",
              "          google.colab.kernel.accessAllowed ? 'block' : 'none';\n",
              "\n",
              "        async function convertToInteractive(key) {\n",
              "          const element = document.querySelector('#df-0fe2e540-e554-4e15-8811-4dd355c39241');\n",
              "          const dataTable =\n",
              "            await google.colab.kernel.invokeFunction('convertToInteractive',\n",
              "                                                     [key], {});\n",
              "          if (!dataTable) return;\n",
              "\n",
              "          const docLinkHtml = 'Like what you see? Visit the ' +\n",
              "            '<a target=\"_blank\" href=https://colab.research.google.com/notebooks/data_table.ipynb>data table notebook</a>'\n",
              "            + ' to learn more about interactive tables.';\n",
              "          element.innerHTML = '';\n",
              "          dataTable['output_type'] = 'display_data';\n",
              "          await google.colab.output.renderOutput(dataTable, element);\n",
              "          const docLink = document.createElement('div');\n",
              "          docLink.innerHTML = docLinkHtml;\n",
              "          element.appendChild(docLink);\n",
              "        }\n",
              "      </script>\n",
              "    </div>\n",
              "  </div>\n",
              "  "
            ]
          },
          "metadata": {},
          "execution_count": 10
        }
      ]
    },
    {
      "cell_type": "markdown",
      "source": [
        "## Removing Stopward\n",
        "\n",
        "A stop word is a commonly used word (such as “the”, “a”, “an”, “in”) that a search engine has been programmed to ignore, both when indexing entries for searching and when retrieving them as the result of a search query.\n",
        "\n",
        "Reference - https://stackoverflow.com/questions/5486337/how-to-remove-stop-words-using-nltk-or-python"
      ],
      "metadata": {
        "id": "zynngODuUf15"
      }
    },
    {
      "cell_type": "code",
      "source": [
        "# removing stop word\n",
        "stop = set(stopwords.words(\"english\"))\n",
        "def remove_stopwords(text):\n",
        "  filtered_words = [word.lower() for word in text.split() if word.lower() not in stop]\n",
        "  return \" \".join(filtered_words)\n",
        "len(stop)"
      ],
      "metadata": {
        "colab": {
          "base_uri": "https://localhost:8080/"
        },
        "id": "QKPrtHfYMtEy",
        "outputId": "1f555924-f106-466f-9119-d0d7e8ac6ee4"
      },
      "execution_count": 11,
      "outputs": [
        {
          "output_type": "execute_result",
          "data": {
            "text/plain": [
              "179"
            ]
          },
          "metadata": {},
          "execution_count": 11
        }
      ]
    },
    {
      "cell_type": "code",
      "source": [
        "df[\"text\"] = df.text.map(remove_stopwords)\n",
        "df.head()"
      ],
      "metadata": {
        "colab": {
          "base_uri": "https://localhost:8080/",
          "height": 0
        },
        "id": "Ds09joH0bTh0",
        "outputId": "44115a52-ad9a-4763-a4dd-89cba1a2a5b0"
      },
      "execution_count": 12,
      "outputs": [
        {
          "output_type": "execute_result",
          "data": {
            "text/plain": [
              "                                               title  \\\n",
              "0   Trump Will ANNHILILATE The Working Class He’s...   \n",
              "1  Yemen Houthis say have shot down U.S. surveill...   \n",
              "2  BREAKING NEWS: TRUMP ADMIN ANNOUNCES “MASSIVE ...   \n",
              "3  U.S. Commerce Secretary wants NAFTA autos cont...   \n",
              "4  U.S. warns of repercussions for Pakistan over ...   \n",
              "\n",
              "                                                text  Target  \n",
              "0  throughout campaign trump repeatedly told anyo...       0  \n",
              "1  dubai reuters yemen houthi forces shot us surv...       1  \n",
              "2  president trump tax reform economic growth ame...       0  \n",
              "3  mexico city reuters us commerce secretary wilb...       1  \n",
              "4  washington reuters white house said saturday w...       1  "
            ],
            "text/html": [
              "\n",
              "  <div id=\"df-c0cda691-c23a-4efa-8a3e-140f2497b120\">\n",
              "    <div class=\"colab-df-container\">\n",
              "      <div>\n",
              "<style scoped>\n",
              "    .dataframe tbody tr th:only-of-type {\n",
              "        vertical-align: middle;\n",
              "    }\n",
              "\n",
              "    .dataframe tbody tr th {\n",
              "        vertical-align: top;\n",
              "    }\n",
              "\n",
              "    .dataframe thead th {\n",
              "        text-align: right;\n",
              "    }\n",
              "</style>\n",
              "<table border=\"1\" class=\"dataframe\">\n",
              "  <thead>\n",
              "    <tr style=\"text-align: right;\">\n",
              "      <th></th>\n",
              "      <th>title</th>\n",
              "      <th>text</th>\n",
              "      <th>Target</th>\n",
              "    </tr>\n",
              "  </thead>\n",
              "  <tbody>\n",
              "    <tr>\n",
              "      <th>0</th>\n",
              "      <td>Trump Will ANNHILILATE The Working Class He’s...</td>\n",
              "      <td>throughout campaign trump repeatedly told anyo...</td>\n",
              "      <td>0</td>\n",
              "    </tr>\n",
              "    <tr>\n",
              "      <th>1</th>\n",
              "      <td>Yemen Houthis say have shot down U.S. surveill...</td>\n",
              "      <td>dubai reuters yemen houthi forces shot us surv...</td>\n",
              "      <td>1</td>\n",
              "    </tr>\n",
              "    <tr>\n",
              "      <th>2</th>\n",
              "      <td>BREAKING NEWS: TRUMP ADMIN ANNOUNCES “MASSIVE ...</td>\n",
              "      <td>president trump tax reform economic growth ame...</td>\n",
              "      <td>0</td>\n",
              "    </tr>\n",
              "    <tr>\n",
              "      <th>3</th>\n",
              "      <td>U.S. Commerce Secretary wants NAFTA autos cont...</td>\n",
              "      <td>mexico city reuters us commerce secretary wilb...</td>\n",
              "      <td>1</td>\n",
              "    </tr>\n",
              "    <tr>\n",
              "      <th>4</th>\n",
              "      <td>U.S. warns of repercussions for Pakistan over ...</td>\n",
              "      <td>washington reuters white house said saturday w...</td>\n",
              "      <td>1</td>\n",
              "    </tr>\n",
              "  </tbody>\n",
              "</table>\n",
              "</div>\n",
              "      <button class=\"colab-df-convert\" onclick=\"convertToInteractive('df-c0cda691-c23a-4efa-8a3e-140f2497b120')\"\n",
              "              title=\"Convert this dataframe to an interactive table.\"\n",
              "              style=\"display:none;\">\n",
              "        \n",
              "  <svg xmlns=\"http://www.w3.org/2000/svg\" height=\"24px\"viewBox=\"0 0 24 24\"\n",
              "       width=\"24px\">\n",
              "    <path d=\"M0 0h24v24H0V0z\" fill=\"none\"/>\n",
              "    <path d=\"M18.56 5.44l.94 2.06.94-2.06 2.06-.94-2.06-.94-.94-2.06-.94 2.06-2.06.94zm-11 1L8.5 8.5l.94-2.06 2.06-.94-2.06-.94L8.5 2.5l-.94 2.06-2.06.94zm10 10l.94 2.06.94-2.06 2.06-.94-2.06-.94-.94-2.06-.94 2.06-2.06.94z\"/><path d=\"M17.41 7.96l-1.37-1.37c-.4-.4-.92-.59-1.43-.59-.52 0-1.04.2-1.43.59L10.3 9.45l-7.72 7.72c-.78.78-.78 2.05 0 2.83L4 21.41c.39.39.9.59 1.41.59.51 0 1.02-.2 1.41-.59l7.78-7.78 2.81-2.81c.8-.78.8-2.07 0-2.86zM5.41 20L4 18.59l7.72-7.72 1.47 1.35L5.41 20z\"/>\n",
              "  </svg>\n",
              "      </button>\n",
              "      \n",
              "  <style>\n",
              "    .colab-df-container {\n",
              "      display:flex;\n",
              "      flex-wrap:wrap;\n",
              "      gap: 12px;\n",
              "    }\n",
              "\n",
              "    .colab-df-convert {\n",
              "      background-color: #E8F0FE;\n",
              "      border: none;\n",
              "      border-radius: 50%;\n",
              "      cursor: pointer;\n",
              "      display: none;\n",
              "      fill: #1967D2;\n",
              "      height: 32px;\n",
              "      padding: 0 0 0 0;\n",
              "      width: 32px;\n",
              "    }\n",
              "\n",
              "    .colab-df-convert:hover {\n",
              "      background-color: #E2EBFA;\n",
              "      box-shadow: 0px 1px 2px rgba(60, 64, 67, 0.3), 0px 1px 3px 1px rgba(60, 64, 67, 0.15);\n",
              "      fill: #174EA6;\n",
              "    }\n",
              "\n",
              "    [theme=dark] .colab-df-convert {\n",
              "      background-color: #3B4455;\n",
              "      fill: #D2E3FC;\n",
              "    }\n",
              "\n",
              "    [theme=dark] .colab-df-convert:hover {\n",
              "      background-color: #434B5C;\n",
              "      box-shadow: 0px 1px 3px 1px rgba(0, 0, 0, 0.15);\n",
              "      filter: drop-shadow(0px 1px 2px rgba(0, 0, 0, 0.3));\n",
              "      fill: #FFFFFF;\n",
              "    }\n",
              "  </style>\n",
              "\n",
              "      <script>\n",
              "        const buttonEl =\n",
              "          document.querySelector('#df-c0cda691-c23a-4efa-8a3e-140f2497b120 button.colab-df-convert');\n",
              "        buttonEl.style.display =\n",
              "          google.colab.kernel.accessAllowed ? 'block' : 'none';\n",
              "\n",
              "        async function convertToInteractive(key) {\n",
              "          const element = document.querySelector('#df-c0cda691-c23a-4efa-8a3e-140f2497b120');\n",
              "          const dataTable =\n",
              "            await google.colab.kernel.invokeFunction('convertToInteractive',\n",
              "                                                     [key], {});\n",
              "          if (!dataTable) return;\n",
              "\n",
              "          const docLinkHtml = 'Like what you see? Visit the ' +\n",
              "            '<a target=\"_blank\" href=https://colab.research.google.com/notebooks/data_table.ipynb>data table notebook</a>'\n",
              "            + ' to learn more about interactive tables.';\n",
              "          element.innerHTML = '';\n",
              "          dataTable['output_type'] = 'display_data';\n",
              "          await google.colab.output.renderOutput(dataTable, element);\n",
              "          const docLink = document.createElement('div');\n",
              "          docLink.innerHTML = docLinkHtml;\n",
              "          element.appendChild(docLink);\n",
              "        }\n",
              "      </script>\n",
              "    </div>\n",
              "  </div>\n",
              "  "
            ]
          },
          "metadata": {},
          "execution_count": 12
        }
      ]
    },
    {
      "cell_type": "code",
      "source": [
        "# removing HTML tags from the string\n",
        "def remove_html_tags(text):\n",
        "    pattern = re.compile('<.*?>')\n",
        "    return pattern.sub(r'', text)\n",
        "    \n",
        "ex_text = \"<p> Data is the new oil. A.I is the last invention </p> \"\n",
        "remove_html_tags(ex_text)"
      ],
      "metadata": {
        "colab": {
          "base_uri": "https://localhost:8080/",
          "height": 0
        },
        "id": "TnRku8tabZfF",
        "outputId": "5988ff3d-3260-489e-879c-19968cb5fbd8"
      },
      "execution_count": 13,
      "outputs": [
        {
          "output_type": "execute_result",
          "data": {
            "text/plain": [
              "' Data is the new oil. A.I is the last invention  '"
            ],
            "application/vnd.google.colaboratory.intrinsic+json": {
              "type": "string"
            }
          },
          "metadata": {},
          "execution_count": 13
        }
      ]
    },
    {
      "cell_type": "code",
      "source": [
        "df['text'] = df['text'].apply(remove_html_tags)"
      ],
      "metadata": {
        "id": "EjDoojVtVJef"
      },
      "execution_count": 14,
      "outputs": []
    },
    {
      "cell_type": "code",
      "source": [
        "# removing Uniform Resource Locator(URL) from string\n",
        "def remove_url(text):\n",
        "    pattern = re.compile(r'https?://\\S+|www\\.\\S+')\n",
        "    return pattern.sub(r'', text)\n",
        "\n",
        "ex_text = \"Data is the new oil. A.I is the last invention https://stackoverflow.com/questions/5486337/how-to-remove-stop-words-using-nltk-or-python \"\n",
        "remove_url(ex_text)"
      ],
      "metadata": {
        "colab": {
          "base_uri": "https://localhost:8080/",
          "height": 0
        },
        "id": "uLZpJaW6fCgb",
        "outputId": "760ef887-6699-484c-b6f3-182d2a7d6fba"
      },
      "execution_count": 15,
      "outputs": [
        {
          "output_type": "execute_result",
          "data": {
            "text/plain": [
              "'Data is the new oil. A.I is the last invention  '"
            ],
            "application/vnd.google.colaboratory.intrinsic+json": {
              "type": "string"
            }
          },
          "metadata": {},
          "execution_count": 15
        }
      ]
    },
    {
      "cell_type": "code",
      "source": [
        "df['text'] = df['text'].apply(remove_url)\n",
        "df.head()"
      ],
      "metadata": {
        "colab": {
          "base_uri": "https://localhost:8080/",
          "height": 0
        },
        "id": "cWvCDT72VsB_",
        "outputId": "34159c69-ff92-4537-cd15-b5b8195fcf70"
      },
      "execution_count": 16,
      "outputs": [
        {
          "output_type": "execute_result",
          "data": {
            "text/plain": [
              "                                               title  \\\n",
              "0   Trump Will ANNHILILATE The Working Class He’s...   \n",
              "1  Yemen Houthis say have shot down U.S. surveill...   \n",
              "2  BREAKING NEWS: TRUMP ADMIN ANNOUNCES “MASSIVE ...   \n",
              "3  U.S. Commerce Secretary wants NAFTA autos cont...   \n",
              "4  U.S. warns of repercussions for Pakistan over ...   \n",
              "\n",
              "                                                text  Target  \n",
              "0  throughout campaign trump repeatedly told anyo...       0  \n",
              "1  dubai reuters yemen houthi forces shot us surv...       1  \n",
              "2  president trump tax reform economic growth ame...       0  \n",
              "3  mexico city reuters us commerce secretary wilb...       1  \n",
              "4  washington reuters white house said saturday w...       1  "
            ],
            "text/html": [
              "\n",
              "  <div id=\"df-39d7161b-c055-4448-95f1-d4ca52eca2aa\">\n",
              "    <div class=\"colab-df-container\">\n",
              "      <div>\n",
              "<style scoped>\n",
              "    .dataframe tbody tr th:only-of-type {\n",
              "        vertical-align: middle;\n",
              "    }\n",
              "\n",
              "    .dataframe tbody tr th {\n",
              "        vertical-align: top;\n",
              "    }\n",
              "\n",
              "    .dataframe thead th {\n",
              "        text-align: right;\n",
              "    }\n",
              "</style>\n",
              "<table border=\"1\" class=\"dataframe\">\n",
              "  <thead>\n",
              "    <tr style=\"text-align: right;\">\n",
              "      <th></th>\n",
              "      <th>title</th>\n",
              "      <th>text</th>\n",
              "      <th>Target</th>\n",
              "    </tr>\n",
              "  </thead>\n",
              "  <tbody>\n",
              "    <tr>\n",
              "      <th>0</th>\n",
              "      <td>Trump Will ANNHILILATE The Working Class He’s...</td>\n",
              "      <td>throughout campaign trump repeatedly told anyo...</td>\n",
              "      <td>0</td>\n",
              "    </tr>\n",
              "    <tr>\n",
              "      <th>1</th>\n",
              "      <td>Yemen Houthis say have shot down U.S. surveill...</td>\n",
              "      <td>dubai reuters yemen houthi forces shot us surv...</td>\n",
              "      <td>1</td>\n",
              "    </tr>\n",
              "    <tr>\n",
              "      <th>2</th>\n",
              "      <td>BREAKING NEWS: TRUMP ADMIN ANNOUNCES “MASSIVE ...</td>\n",
              "      <td>president trump tax reform economic growth ame...</td>\n",
              "      <td>0</td>\n",
              "    </tr>\n",
              "    <tr>\n",
              "      <th>3</th>\n",
              "      <td>U.S. Commerce Secretary wants NAFTA autos cont...</td>\n",
              "      <td>mexico city reuters us commerce secretary wilb...</td>\n",
              "      <td>1</td>\n",
              "    </tr>\n",
              "    <tr>\n",
              "      <th>4</th>\n",
              "      <td>U.S. warns of repercussions for Pakistan over ...</td>\n",
              "      <td>washington reuters white house said saturday w...</td>\n",
              "      <td>1</td>\n",
              "    </tr>\n",
              "  </tbody>\n",
              "</table>\n",
              "</div>\n",
              "      <button class=\"colab-df-convert\" onclick=\"convertToInteractive('df-39d7161b-c055-4448-95f1-d4ca52eca2aa')\"\n",
              "              title=\"Convert this dataframe to an interactive table.\"\n",
              "              style=\"display:none;\">\n",
              "        \n",
              "  <svg xmlns=\"http://www.w3.org/2000/svg\" height=\"24px\"viewBox=\"0 0 24 24\"\n",
              "       width=\"24px\">\n",
              "    <path d=\"M0 0h24v24H0V0z\" fill=\"none\"/>\n",
              "    <path d=\"M18.56 5.44l.94 2.06.94-2.06 2.06-.94-2.06-.94-.94-2.06-.94 2.06-2.06.94zm-11 1L8.5 8.5l.94-2.06 2.06-.94-2.06-.94L8.5 2.5l-.94 2.06-2.06.94zm10 10l.94 2.06.94-2.06 2.06-.94-2.06-.94-.94-2.06-.94 2.06-2.06.94z\"/><path d=\"M17.41 7.96l-1.37-1.37c-.4-.4-.92-.59-1.43-.59-.52 0-1.04.2-1.43.59L10.3 9.45l-7.72 7.72c-.78.78-.78 2.05 0 2.83L4 21.41c.39.39.9.59 1.41.59.51 0 1.02-.2 1.41-.59l7.78-7.78 2.81-2.81c.8-.78.8-2.07 0-2.86zM5.41 20L4 18.59l7.72-7.72 1.47 1.35L5.41 20z\"/>\n",
              "  </svg>\n",
              "      </button>\n",
              "      \n",
              "  <style>\n",
              "    .colab-df-container {\n",
              "      display:flex;\n",
              "      flex-wrap:wrap;\n",
              "      gap: 12px;\n",
              "    }\n",
              "\n",
              "    .colab-df-convert {\n",
              "      background-color: #E8F0FE;\n",
              "      border: none;\n",
              "      border-radius: 50%;\n",
              "      cursor: pointer;\n",
              "      display: none;\n",
              "      fill: #1967D2;\n",
              "      height: 32px;\n",
              "      padding: 0 0 0 0;\n",
              "      width: 32px;\n",
              "    }\n",
              "\n",
              "    .colab-df-convert:hover {\n",
              "      background-color: #E2EBFA;\n",
              "      box-shadow: 0px 1px 2px rgba(60, 64, 67, 0.3), 0px 1px 3px 1px rgba(60, 64, 67, 0.15);\n",
              "      fill: #174EA6;\n",
              "    }\n",
              "\n",
              "    [theme=dark] .colab-df-convert {\n",
              "      background-color: #3B4455;\n",
              "      fill: #D2E3FC;\n",
              "    }\n",
              "\n",
              "    [theme=dark] .colab-df-convert:hover {\n",
              "      background-color: #434B5C;\n",
              "      box-shadow: 0px 1px 3px 1px rgba(0, 0, 0, 0.15);\n",
              "      filter: drop-shadow(0px 1px 2px rgba(0, 0, 0, 0.3));\n",
              "      fill: #FFFFFF;\n",
              "    }\n",
              "  </style>\n",
              "\n",
              "      <script>\n",
              "        const buttonEl =\n",
              "          document.querySelector('#df-39d7161b-c055-4448-95f1-d4ca52eca2aa button.colab-df-convert');\n",
              "        buttonEl.style.display =\n",
              "          google.colab.kernel.accessAllowed ? 'block' : 'none';\n",
              "\n",
              "        async function convertToInteractive(key) {\n",
              "          const element = document.querySelector('#df-39d7161b-c055-4448-95f1-d4ca52eca2aa');\n",
              "          const dataTable =\n",
              "            await google.colab.kernel.invokeFunction('convertToInteractive',\n",
              "                                                     [key], {});\n",
              "          if (!dataTable) return;\n",
              "\n",
              "          const docLinkHtml = 'Like what you see? Visit the ' +\n",
              "            '<a target=\"_blank\" href=https://colab.research.google.com/notebooks/data_table.ipynb>data table notebook</a>'\n",
              "            + ' to learn more about interactive tables.';\n",
              "          element.innerHTML = '';\n",
              "          dataTable['output_type'] = 'display_data';\n",
              "          await google.colab.output.renderOutput(dataTable, element);\n",
              "          const docLink = document.createElement('div');\n",
              "          docLink.innerHTML = docLinkHtml;\n",
              "          element.appendChild(docLink);\n",
              "        }\n",
              "      </script>\n",
              "    </div>\n",
              "  </div>\n",
              "  "
            ]
          },
          "metadata": {},
          "execution_count": 16
        }
      ]
    },
    {
      "cell_type": "markdown",
      "source": [
        "## Forming Vocabulary\n"
      ],
      "metadata": {
        "id": "TKBEcayCMJsq"
      }
    },
    {
      "cell_type": "code",
      "source": [
        "# Count unique words\n",
        "def counter_word(text_col):\n",
        "    count = Counter()\n",
        "    for text in text_col.values:\n",
        "        for word in text.split():\n",
        "            count[word] += 1\n",
        "    return count\n",
        "\n",
        "counter = counter_word(df.text)\n",
        "\n",
        "num_unique_words = len(counter)\n",
        "print(num_unique_words)"
      ],
      "metadata": {
        "colab": {
          "base_uri": "https://localhost:8080/"
        },
        "id": "S9TDu8JZLyvq",
        "outputId": "35d7682f-c2ea-408c-a462-0f39993b361f"
      },
      "execution_count": 17,
      "outputs": [
        {
          "output_type": "stream",
          "name": "stdout",
          "text": [
            "229783\n"
          ]
        }
      ]
    },
    {
      "cell_type": "markdown",
      "source": [
        "# Train and Validation Split\n"
      ],
      "metadata": {
        "id": "QQgYTLf0MRsc"
      }
    },
    {
      "cell_type": "code",
      "source": [
        "# Split dataset into training and validation set\n",
        "train_size = int(df.shape[0] * 0.9)\n",
        "\n",
        "train_df = df[:train_size]\n",
        "val_df = df[train_size:]\n",
        "\n",
        "# split text and labels\n",
        "train_sentences = train_df.text.to_numpy()\n",
        "train_labels = train_df.Target.to_numpy()\n",
        "val_sentences = val_df.text.to_numpy()\n",
        "val_labels = val_df.Target.to_numpy()"
      ],
      "metadata": {
        "id": "KvX3790bMO_W"
      },
      "execution_count": 18,
      "outputs": []
    },
    {
      "cell_type": "code",
      "source": [
        "train_sentences.shape, val_sentences.shape"
      ],
      "metadata": {
        "colab": {
          "base_uri": "https://localhost:8080/"
        },
        "id": "U53dGZ_2NQ1a",
        "outputId": "97bb9797-1409-4a0d-af33-d70eb6a4e0a1"
      },
      "execution_count": 19,
      "outputs": [
        {
          "output_type": "execute_result",
          "data": {
            "text/plain": [
              "((40408,), (4490,))"
            ]
          },
          "metadata": {},
          "execution_count": 19
        }
      ]
    },
    {
      "cell_type": "markdown",
      "source": [
        "# Tokenization"
      ],
      "metadata": {
        "id": "S4LrShO1NXgj"
      }
    },
    {
      "cell_type": "code",
      "source": [
        "# Tokenize\n",
        "\n",
        "# vectorize a text corpus by turning each text into a sequence of integers\n",
        "tokenizer = Tokenizer(num_words=num_unique_words)\n",
        "tokenizer.fit_on_texts(train_sentences) # fit only to training\n",
        "\n",
        "# each word has unique index\n",
        "word_index = tokenizer.word_index # dict- each word as key and value is unique indices "
      ],
      "metadata": {
        "id": "fmRnBwSGNUsc"
      },
      "execution_count": 20,
      "outputs": []
    },
    {
      "cell_type": "code",
      "source": [
        "train_sequences = tokenizer.texts_to_sequences(train_sentences)\n",
        "val_sequences = tokenizer.texts_to_sequences(val_sentences)"
      ],
      "metadata": {
        "id": "g_fqQp_sNaBF"
      },
      "execution_count": 21,
      "outputs": []
    },
    {
      "cell_type": "code",
      "source": [
        "print(train_sentences[10:15])\n",
        "print(train_sequences[10:15])"
      ],
      "metadata": {
        "colab": {
          "base_uri": "https://localhost:8080/"
        },
        "id": "Dd3vPst4Ndxt",
        "outputId": "b1a6af19-f284-4ebe-e3db-72f0163c7bd2"
      },
      "execution_count": 22,
      "outputs": [
        {
          "output_type": "stream",
          "name": "stdout",
          "text": [
            "['new york reuters us appeals court weighing arguments president donald trump’s temporary travel ban decision week may yet answer underlying legal questions raised fastmoving case th us circuit court appeals san francisco expected rule narrow question whether lower court’s emergency halt executive order trump justified trump signed order jan barring citizens seven muslimmajority countries days halted refugee entries four months appeals court several options could kick case back lower court judge james robart seattle saying premature make ruling chance consider evidence robart stopped trump’s order week issued arguments developed sides panel three appellate judges could side government find halting order harmful national security reinstating case continues decision “one step long historic case” stephen yaleloehr professor cornell university law school specializes immigration ultimately case likely end us supreme court legal experts said case first serious test executive authority since trump became president jan legal experts said three main issues play judiciary broad questions case whether states right challenge federal immigration laws much power court question president’s national security decisions order discriminates muslims washington state filed original lawsuit claiming hurt ban students faculty staterun universities corporate employees stranded overseas trump administration lawyer august flentje argued appeals court hearing tuesday states lack “standing” sue federal government immigration law arguments questioned judges court decides states allowed bring case next major question limits president’s power “historically courts exceedingly deferential governmental actions immigration area” said jonathan adler case western reserve university school law professor though added “the way carried understandably makes people perhaps courts uneasy applying traditional rules” trump issued order late friday caused chaos airports officials struggled quickly change procedures tuesday’s hearing judge richard clifton appointee republican president george w bush judge william canby appointee democratic president jimmy carter pushed government explain would happen trump simply decided ban muslims entering united states “would anybody able challenge that” canby asked flentje emphasized order ban muslims said president made determination immigration policy based legitimate assessment risk government said order grounded law passed congress allows president suspend entry “any class aliens” deems “would detrimental interests united states” asked third judge michelle friedland appointed democrat barack obama meant president’s decisions “unreviewable” flentje pause answered “yes” pressed flentje acknowledged however constitutional concerns raised order one main concerns allegations states civil rights groups lawmakers citizens order discriminates violation constitution’s first amendment prohibits favoring one religion another judges decide whether look exclusively actual text president’s order mention particular religion consider outside comments trump team discern intent washington state’s attorney noah purcell told hearing even though lawsuit early stage amount evidence trump intended discriminate muslims “remarkable” cited trump’s campaign promises “total complete shutdown muslims entering united states” tweet monday night trump said “the threat radical islamic terrorism real” urging courts act quickly government lawyer flentje countered purcell saying danger second guessing trump’s decisionmaking us security “based newspaper articles” clifton asked statements fox news trump adviser rudolph giuliani former new york mayor former prosecutor trump asked figure make muslim ban legal “do deny fact statements attributed candidate trump political advisers recently mr giuliani” clifton asked “either types statements made not” said clifton “if made potential evidence”'\n",
            " 'white house still trying make trump look like perfect blasted press release containing article mcclatchy titled trump first president ban foreigners time different removed several full paragraphs detailing problems legal otherwise muslim banwhat remains benign story makes sound like mcclatchy agrees trump every president didsean spicer office put first six paragraphs story ellipsis indicating material removed original story two paragraphs later another ellipsis two paragraphs another ellipsis ellipsis end one could say due available space literally removed everything critical trump left parts makes little harder justify removing material ran space four missing paragraphs reada flurry lawsuits immediately filed trump order behalf immigrants detained barred entering united states us district judge james robart republican appointee temporarily blocked order taking effect nationwide basis friday following halfdozen rulings federal judges backed limited challenges temporary stay granted generally judge believes side prevail merits case according legal expertsthey say trump executive order may rely law predecessors differs two important waysfirst much broader banning people multiple countries including whose status already determined second order could deemed unconstitutional discriminates people based religion order calls special consideration followers minority religions affected countries certain reference christiansthe difference trump order said erin corcoran immigration law professor university new hampshire law school usually presidents cite specific immediate national threats trump order target may come united states future already legal status en routethe third ellipsis press release omits paragraphssteve legomsky served senior counsel secretary homeland security immigration issues chief counsel us citizenship immigration services emeritus professor law washington university st louis said trump used power different way ever part isolate subcategory peopleformer acting attorney general sally yates obama appointee serve trump nominee lead justice department installed fired refused enforce executive order felt intended disadvantage muslims responsible ensuring positions take court remain consistent institution solemn obligation always seek justice stand right yates said letter present convinced defense executive order consistent responsibilities convinced executive order lawfulprevious presidential orders draw court challenges trigger major national debate trump orderand ellipsis end omits thisharold koh former legal adviser state department international law professor yale university said however courts would likely narrow order litigation went mark process going said could end one shadow original order highlights major differences exist order others past presidents issued evidence seven countries represent specific threat us kept tight wraps fact department justice told th circuit president intel nobody else made decision based thatthey provide intel court though despite fact courts often review classified info make proper ruling case even rules regulations place govern kind thingright trump says considering several options muslim ban including appealing supreme court issuing new order fact white house lawyers surprise surprise supposedly drafting new order say better comply lawthe white house press release include links mcclatchy story probably banking people clicking links maybe hoping people understand reading regardless dishonesty administration continues unabatedfeatured image andrew harrerpool via getty images'\n",
            " 'american citizens stop afraid stand speak politically correct thugs lefta new black lives matter textbook soon available middle school high school classroomsaccording publisher description black lives matter covers shootings touched passionate protests work activists bring legal system tensions us society events brought light abdo publishing specifies book written sixth graders high school students says textbook aligned common core standards correlated state standards authoritative text designed teach nonblack children historicalstructural inequalities productive antiblack violence us law society made available commercial consumption reads review feminist wire parents well teachers eager teach middle andor high school students routine vulnerability terror generative rejoined black lives matter find invaluable resource special report conservative radio commentator larry elder weighed fox friends weekend textbook indoctrinating young kids teaching black people victims elder saidhe argued movement would better addressing blackonblack crime black lives matter people really concerned ought say something fact last year blacks shot blacks far away number one cause preventable death young black men homicide added textbook coauthored missouri journalist sue bradford edwards duchess harris professor american studies macalester college minnesota harris also author black feminist politics kennedy obama coeditor racially writing republic racists race rebels transformations american identity black lives matter part abdo publishing special report series books aim help readers develop essential understanding current events encourage form opinions total eight titles special report series including ebola outbreak isis transgender rights issues via red alert politics'\n",
            " 'conform pay ultimate price police seized ten children grid homeschool family kentucky wednesday receiving anonymous tip family traditional lifestylethe nightmare story began sheriff officers set blockade around joe nicole naugler rural property entering premises eight kids father nicole two oldest children home nicole attempted drive away subsequently stopped arrested resisting attempting prevent officers taking two boys awaythe sheriff demanded joe naugler turn eight children next day face felony charges order complied extremely happy family said family friend pace ellsworth asserts nauglers targeted back basics life decision homeschool childrenfriends reported concerns children treated parents follow educational model called unschooling children decide curriculum based subjects interest strengths natural way live said ellsworth actually growing movement want personal education factory education completely open life everyone learning living extremely intelligent family facebook page entitled blessed little homestead charming testament way life naugler children obviously living blissful free range lifestyle amongst acres land breckinridge county frequently post pictures videos children animals offgrid life reports grid news may post showed video toddler mosiah learning walk april post showed happy family gathering around campfire roasting marshmallows family set gofundme page try raise money legal expensesa website family spells plight heartwrenching words kentucky family people dogs farm cats random farm animals torn apart crime living simple back basics life shocking story illustrates families attempting simply get lives traditional manner treated extremists americans snitched targeted authoritieshere facebook link nagger family business blessed little grooming company llcvia infowars'\n",
            " 'washington reuters chicago tribune endorsed senator marco rubio republican presidential race wednesday week illinois’ winnertakeall presidential primary newspaper state’s leading city credited rubio’s embrace spending limits lineitem veto balanced budget amendment “crucially foreign affairs expertise vastly exceeds rivals” said reporting doina chiacu editing mohammad zargham article funded part sap independently created reuters editorial staff sap editorial involvement creation production']\n",
            "[[10, 124, 11, 3, 1388, 55, 6044, 3197, 5, 12, 82, 1877, 695, 390, 180, 64, 42, 257, 978, 7055, 278, 533, 763, 27057, 135, 560, 3, 2156, 55, 1388, 844, 2091, 315, 508, 4588, 355, 131, 895, 3872, 1307, 2719, 256, 142, 2, 5858, 2, 737, 142, 1185, 5255, 471, 864, 3418, 162, 186, 5394, 908, 17548, 276, 202, 1388, 55, 182, 1966, 19, 5463, 135, 58, 895, 55, 361, 629, 8350, 3750, 89, 9825, 49, 502, 1032, 910, 348, 8350, 1510, 82, 142, 64, 742, 3197, 3086, 1053, 1073, 132, 10874, 1725, 19, 641, 14, 403, 8217, 142, 6333, 43, 40, 14374, 135, 1129, 180, 5111, 710, 184, 2029, 12053, 2015, 29224, 1297, 9416, 360, 51, 282, 11953, 209, 1697, 135, 196, 156, 3, 350, 55, 278, 888, 1, 135, 31, 686, 1079, 256, 1015, 50, 2, 736, 5, 1185, 278, 888, 1, 132, 706, 323, 999, 1561, 2214, 533, 135, 131, 16, 86, 1166, 80, 209, 604, 99, 158, 55, 355, 2052, 43, 40, 1432, 142, 12522, 479, 35, 9, 955, 2010, 1152, 1446, 1358, 390, 469, 6083, 4450, 3775, 1116, 869, 8816, 1788, 2, 61, 754, 503, 28087, 1420, 1388, 55, 681, 94, 16, 1102, 31973, 3355, 80, 14, 209, 51, 3197, 1812, 1725, 55, 5204, 16, 572, 586, 135, 125, 240, 355, 2554, 2052, 158, 45606, 1397, 15330, 30557, 8708, 672, 209, 23763, 1, 4676, 12272, 135, 679, 3306, 360, 282, 51, 1297, 231, 262, 432, 75, 1374, 11954, 588, 6, 1193, 1397, 10600, 6229, 2239, 17549, 2, 742, 142, 491, 111, 1145, 2064, 3897, 73, 3460, 926, 174, 3804, 4705, 681, 361, 1607, 28088, 5798, 18, 5, 581, 1147, 542, 361, 2425, 73549, 5798, 59, 5, 3879, 2358, 1406, 14, 1488, 4, 956, 2, 729, 575, 390, 479, 1558, 20, 16, 10601, 2506, 376, 1166, 3722, 73549, 112, 28087, 5734, 142, 390, 479, 1, 5, 46, 5223, 209, 115, 544, 2477, 3016, 900, 14, 1, 142, 13898, 51, 702, 103, 2149, 5, 4334, 2592, 8916, 1031, 50807, 9573, 10601, 11334, 949, 20, 4667, 112, 853, 361, 1981, 35685, 1753, 283, 211, 17, 1300, 2052, 1432, 116837, 28087, 6360, 4368, 15975, 3036, 28087, 2223, 200, 1306, 595, 763, 142, 7, 706, 595, 618, 16, 430, 117, 193, 303, 471, 142, 12522, 2103, 8509, 31, 1019, 5581, 6677, 7, 1542, 101, 1725, 1277, 131, 266, 4793, 1649, 2599, 2052, 142, 1625, 1470, 1542, 910, 496, 384, 2, 330, 22488, 2745, 35, 1885, 327, 6206, 38256, 21, 681, 34, 231, 1152, 400, 1239, 1291, 348, 2, 1626, 5597, 479, 116838, 1452, 82, 24, 1953, 18460, 1142, 4076, 479, 1558, 20, 4667, 694, 116, 338, 2, 1, 432, 541, 1109, 223, 779, 35686, 2560, 1397, 235, 926, 14, 754, 28087, 8959, 38256, 89, 2274, 366, 15976, 82, 8510, 3, 40, 19985, 1134, 116839, 28088, 112, 1020, 210, 26, 2, 699, 17261, 3319, 33, 10, 124, 823, 33, 1489, 2, 112, 1333, 49, 281, 390, 278, 10699, 2294, 178, 1020, 6291, 147, 2, 45, 2074, 555, 402, 116840, 28088, 112, 20892, 4066, 1020, 46, 10875, 1, 28088, 1780, 46, 655, 18142], [22, 13, 96, 239, 49, 2, 266, 23, 2213, 3263, 234, 566, 5151, 752, 21381, 4198, 2, 31, 5, 390, 3864, 28, 531, 1400, 182, 417, 11146, 7472, 942, 278, 1736, 281, 73550, 1140, 15110, 191, 588, 2368, 23, 21381, 5582, 2, 148, 5, 116841, 1154, 77, 159, 31, 565, 11146, 191, 38257, 6440, 1798, 1400, 2010, 191, 27, 11146, 238, 101, 38257, 27, 11146, 101, 38257, 38257, 156, 7, 19, 44, 427, 1318, 2101, 1433, 1400, 613, 1035, 2, 155, 1123, 588, 261, 2500, 3880, 3733, 1798, 1328, 2101, 276, 2299, 11146, 59853, 9972, 2667, 517, 955, 2, 142, 1594, 513, 1583, 3382, 1558, 20, 16, 3, 598, 361, 629, 8350, 18, 5798, 2988, 1634, 142, 296, 1190, 2739, 1628, 111, 295, 17828, 4504, 80, 1725, 1011, 1745, 1908, 1877, 868, 2292, 2376, 361, 1096, 641, 9254, 8258, 135, 67, 278, 116842, 44, 2, 256, 142, 42, 3599, 51, 7541, 15741, 27, 363, 59854, 99, 2593, 3065, 6, 1157, 162, 63, 485, 1070, 185, 2072, 366, 142, 19, 3572, 2970, 12522, 6, 544, 1542, 142, 612, 365, 2803, 2327, 1149, 5990, 2025, 162, 948, 1982, 38258, 2111, 2, 142, 1, 10964, 13148, 209, 51, 1297, 360, 10, 1940, 51, 282, 2267, 1692, 7838, 1530, 1664, 43, 990, 2, 142, 1036, 42, 146, 20, 16, 425, 185, 278, 1070, 6084, 116843, 853, 38257, 234, 566, 41260, 116844, 30558, 903, 269, 1150, 118, 1303, 40, 209, 323, 220, 1150, 3, 2150, 209, 530, 15111, 1297, 51, 35, 360, 445, 3241, 1, 2, 152, 158, 531, 75, 298, 104, 7581, 59855, 116845, 1340, 327, 126, 6207, 4451, 17, 5798, 1119, 2, 313, 426, 166, 88, 6292, 689, 993, 3419, 256, 142, 1352, 1626, 10790, 479, 969, 4152, 1348, 76, 55, 818, 3768, 3776, 16987, 4052, 589, 977, 166, 552, 86, 4451, 1, 424, 1408, 3853, 263, 256, 142, 3768, 6334, 3853, 256, 142, 116846, 56, 1677, 2863, 55, 1908, 3742, 240, 43, 394, 2, 73551, 38257, 156, 41260, 116847, 30559, 33, 278, 699, 9, 88, 177, 51, 1297, 6230, 360, 1, 200, 1397, 4, 196, 4588, 142, 4570, 246, 770, 357, 53, 1, 19, 156, 7, 5007, 2010, 142, 5137, 240, 2343, 3044, 142, 331, 265, 1692, 742, 348, 864, 162, 1914, 1530, 541, 3, 1537, 4416, 14559, 178, 88, 166, 21, 560, 2156, 5, 4323, 1866, 843, 46, 180, 544, 73552, 594, 4323, 55, 231, 395, 178, 1397, 582, 724, 1230, 5125, 49, 3367, 502, 135, 34, 475, 1124, 204, 5236, 602, 116848, 2, 97, 1130, 182, 1966, 281, 390, 63, 6102, 350, 55, 4835, 10, 142, 178, 22, 13, 1187, 1579, 1579, 2969, 8292, 10, 142, 44, 332, 2867, 16445, 22, 13, 234, 566, 624, 1814, 21381, 191, 707, 2439, 6, 14918, 1814, 1059, 2266, 6, 886, 2328, 2480, 11147, 61, 1129, 116849, 100, 1684, 116850, 78, 1683, 352], [52, 471, 287, 2247, 552, 814, 1646, 1785, 4558, 59856, 10, 130, 414, 252, 7811, 741, 1318, 493, 282, 347, 282, 73553, 8817, 4784, 130, 414, 252, 4851, 2557, 4956, 5779, 768, 108, 1080, 586, 278, 274, 1332, 3, 1006, 920, 720, 1399, 22489, 5205, 21382, 997, 1416, 3836, 17829, 347, 282, 469, 97, 7811, 5752, 1057, 2510, 1864, 41261, 9, 1864, 22490, 2599, 1513, 4668, 59857, 221, 73554, 17262, 7220, 23764, 279, 3, 51, 1006, 46, 1318, 2403, 8663, 3563, 724, 6497, 480, 1012, 93, 2854, 4185, 4668, 493, 5898, 347, 282, 469, 5061, 11648, 1049, 73555, 27058, 130, 414, 252, 403, 27059, 7324, 365, 149, 197, 894, 5583, 4716, 7358, 5442, 210, 816, 1162, 7811, 22491, 447, 1242, 4825, 130, 6, 874, 7358, 11148, 1420, 628, 4, 332, 3098, 21383, 663, 130, 414, 252, 6, 160, 939, 5112, 44, 198, 178, 25, 32, 2747, 634, 2747, 194, 286, 230, 7, 899, 15112, 399, 447, 130, 321, 7401, 262, 7811, 19177, 3102, 1977, 3355, 16988, 4969, 21917, 4301, 1297, 52, 2426, 73556, 759, 2668, 4301, 8, 2117, 130, 6497, 524, 2065, 17, 59858, 6276, 2132, 1726, 3461, 396, 1926, 38259, 52, 1999, 130, 414, 252, 104, 22489, 5205, 365, 149, 991, 2936, 2566, 129, 4417, 2567, 3564, 2528, 421, 920, 2637, 891, 2794, 819, 959, 11955, 365, 149, 991, 63, 9694, 6469, 859, 1311, 117, 323, 78, 1212, 4270, 524], [14919, 337, 4009, 1254, 48, 2413, 2685, 221, 5966, 25270, 179, 2942, 102, 2084, 3185, 4095, 179, 2239, 59859, 5409, 191, 478, 1890, 495, 273, 5524, 136, 983, 12397, 33704, 2690, 1427, 1558, 12054, 959, 1242, 731, 12397, 27, 5967, 221, 215, 12397, 1735, 1564, 286, 4597, 1510, 668, 7956, 2300, 916, 495, 296, 27, 3173, 29225, 1890, 2212, 983, 33704, 733, 959, 221, 125, 98, 373, 3813, 609, 142, 8351, 1869, 1535, 179, 1, 179, 1205, 4292, 30560, 12398, 59860, 1367, 58, 14920, 368, 180, 25270, 59861, 176, 595, 221, 1792, 1012, 1343, 5018, 2377, 81, 59862, 221, 1277, 9757, 544, 6518, 703, 15742, 1783, 75, 460, 1, 30560, 247, 1027, 628, 91, 656, 841, 4134, 841, 923, 374, 368, 499, 3654, 880, 1869, 7168, 179, 434, 795, 2841, 10187, 261, 29226, 15331, 11232, 75, 368, 33704, 221, 1983, 880, 50808, 277, 1776, 8511, 6414, 7721, 1008, 59863, 649, 2797, 217, 3169, 1878, 221, 3253, 50809, 368, 353, 5966, 26, 42, 217, 490, 123, 9107, 45607, 3654, 2443, 476, 217, 490, 1535, 179, 2910, 136, 38260, 24499, 41262, 179, 273, 15743, 795, 571, 1125, 171, 278, 50810, 785, 179, 16446, 7169, 30561, 549, 2942, 179, 6, 5237, 4153, 17263, 5224, 4153, 3253, 8125, 2551, 663, 880, 1795, 58, 14920, 368, 2901, 191, 11145, 722, 2300, 729, 47, 414, 2239, 3121, 1792, 3565, 133, 59864, 1367, 50811, 434, 2217, 59865, 179, 187, 10187, 261, 22492, 326, 59866, 7221], [35, 11, 1069, 5273, 2092, 140, 1913, 827, 18, 56, 396, 102, 64, 10391, 17550, 56, 738, 1134, 1885, 693, 113, 7222, 10965, 4395, 569, 2554, 50812, 2884, 6359, 378, 1019, 116851, 85, 1052, 6894, 11539, 13899, 73557, 1, 1262, 16989, 16990, 4179, 4742, 26107, 752, 1855, 104, 2858, 2834, 808, 11, 1886, 377, 2858, 1886, 1568, 2367, 1651]]\n"
          ]
        }
      ]
    },
    {
      "cell_type": "code",
      "source": [
        "max_length = 25\n",
        "word_index[\"<PAD>\"] = 0"
      ],
      "metadata": {
        "id": "1Sm5yxuLNfmd"
      },
      "execution_count": 23,
      "outputs": []
    },
    {
      "cell_type": "code",
      "source": [
        "import tensorflow as tf"
      ],
      "metadata": {
        "id": "k_h-1Pq_Nopl"
      },
      "execution_count": 24,
      "outputs": []
    },
    {
      "cell_type": "markdown",
      "source": [
        "## Padding"
      ],
      "metadata": {
        "id": "-bCWSQ72gxk1"
      }
    },
    {
      "cell_type": "code",
      "source": [
        "train_padded = tf.keras.preprocessing.sequence.pad_sequences(sequences = train_sequences,value=word_index[\"<PAD>\"],padding=\"post\",maxlen=max_length,truncating='post')\n",
        "val_padded = tf.keras.preprocessing.sequence.pad_sequences(sequences = val_sequences,value=word_index[\"<PAD>\"],padding=\"post\",maxlen=max_length,truncating='post')"
      ],
      "metadata": {
        "id": "_8OvDPY3Nh-t"
      },
      "execution_count": 25,
      "outputs": []
    },
    {
      "cell_type": "code",
      "source": [],
      "metadata": {
        "id": "08I5W5vkN3aa"
      },
      "execution_count": 25,
      "outputs": []
    },
    {
      "cell_type": "markdown",
      "source": [
        "# Creating Model\n",
        "\n",
        "**Embedding:** https://www.tensorflow.org/tutorials/text/word_embeddings\n",
        "\n",
        "Turns positive integers (indexes) into dense vectors of fixed size. (other approach could be one-hot-encoding). Word embeddings give us a way to use an efficient, dense representation in which similar words have a similar encoding. Importantly, you do not have to specify this encoding by hand. An embedding is a dense vector of floating point values (the length of the vector is a parameter you specify).\n",
        "\n",
        "### **Making a Simple Recurrent Neural Network Model**"
      ],
      "metadata": {
        "id": "KDUTwgwug1jr"
      }
    },
    {
      "cell_type": "code",
      "source": [
        "model = keras.models.Sequential()\n",
        "model.add(layers.Embedding(num_unique_words, 16, input_length=max_length))\n",
        "\"\"\"\n",
        "The layer will take as input an integer matrix of size (batch, input_length),\n",
        "and the largest integer (i.e. word index) in the input should be no larger than num_words (vocabulary size).\n",
        "Now model.output_shape is (None, input_length, 16), where `None` is the batch dimension.\n",
        "\"\"\"\n",
        "model.add(layers.SimpleRNN(32, dropout=0.9))\n",
        "model.add(layers.Dense(1, activation=\"sigmoid\"))\n",
        "model.summary()"
      ],
      "metadata": {
        "colab": {
          "base_uri": "https://localhost:8080/"
        },
        "id": "_IqQ51eWNjrO",
        "outputId": "b23963f0-3488-421e-8684-e9bd289ecefa"
      },
      "execution_count": 26,
      "outputs": [
        {
          "output_type": "stream",
          "name": "stdout",
          "text": [
            "Model: \"sequential\"\n",
            "_________________________________________________________________\n",
            " Layer (type)                Output Shape              Param #   \n",
            "=================================================================\n",
            " embedding (Embedding)       (None, 25, 16)            3676528   \n",
            "                                                                 \n",
            " simple_rnn (SimpleRNN)      (None, 32)                1568      \n",
            "                                                                 \n",
            " dense (Dense)               (None, 1)                 33        \n",
            "                                                                 \n",
            "=================================================================\n",
            "Total params: 3,678,129\n",
            "Trainable params: 3,678,129\n",
            "Non-trainable params: 0\n",
            "_________________________________________________________________\n"
          ]
        }
      ]
    },
    {
      "cell_type": "markdown",
      "source": [
        "### Compiling the model"
      ],
      "metadata": {
        "id": "_XT6QsTKjUgC"
      }
    },
    {
      "cell_type": "code",
      "source": [
        "loss = keras.losses.BinaryCrossentropy(from_logits=False)\n",
        "optim = keras.optimizers.Adam(lr=0.001)\n",
        "metrics = [\"accuracy\"]\n",
        "\n",
        "model.compile(loss=loss, optimizer=optim, metrics=metrics)"
      ],
      "metadata": {
        "colab": {
          "base_uri": "https://localhost:8080/"
        },
        "id": "vKZrI2I7Oiuv",
        "outputId": "ab526d3b-482f-4681-9598-29beaceca95b"
      },
      "execution_count": 27,
      "outputs": [
        {
          "output_type": "stream",
          "name": "stderr",
          "text": [
            "/usr/local/lib/python3.7/dist-packages/keras/optimizer_v2/adam.py:105: UserWarning: The `lr` argument is deprecated, use `learning_rate` instead.\n",
            "  super(Adam, self).__init__(name, **kwargs)\n"
          ]
        }
      ]
    },
    {
      "cell_type": "markdown",
      "source": [
        "### Training"
      ],
      "metadata": {
        "id": "sLp-RCQRjaK3"
      }
    },
    {
      "cell_type": "code",
      "source": [
        "model.fit(train_padded, train_labels, epochs=5, validation_data=(val_padded, val_labels), verbose=2)"
      ],
      "metadata": {
        "colab": {
          "base_uri": "https://localhost:8080/"
        },
        "id": "iXX5GNL_N2T2",
        "outputId": "179ad256-1f64-4451-be44-109e63fadfa9"
      },
      "execution_count": 28,
      "outputs": [
        {
          "output_type": "stream",
          "name": "stdout",
          "text": [
            "Epoch 1/5\n",
            "1263/1263 - 41s - loss: 0.2237 - accuracy: 0.9027 - val_loss: 0.0216 - val_accuracy: 0.9978 - 41s/epoch - 33ms/step\n",
            "Epoch 2/5\n",
            "1263/1263 - 40s - loss: 0.0878 - accuracy: 0.9676 - val_loss: 0.0114 - val_accuracy: 0.9964 - 40s/epoch - 32ms/step\n",
            "Epoch 3/5\n",
            "1263/1263 - 42s - loss: 0.0631 - accuracy: 0.9778 - val_loss: 0.0145 - val_accuracy: 0.9960 - 42s/epoch - 33ms/step\n",
            "Epoch 4/5\n",
            "1263/1263 - 40s - loss: 0.0539 - accuracy: 0.9821 - val_loss: 0.0102 - val_accuracy: 0.9971 - 40s/epoch - 32ms/step\n",
            "Epoch 5/5\n",
            "1263/1263 - 41s - loss: 0.0504 - accuracy: 0.9821 - val_loss: 0.0124 - val_accuracy: 0.9967 - 41s/epoch - 33ms/step\n"
          ]
        },
        {
          "output_type": "execute_result",
          "data": {
            "text/plain": [
              "<keras.callbacks.History at 0x7f811e3a2990>"
            ]
          },
          "metadata": {},
          "execution_count": 28
        }
      ]
    },
    {
      "cell_type": "markdown",
      "source": [
        "# Predicting"
      ],
      "metadata": {
        "id": "ZKbcKkGHjeEH"
      }
    },
    {
      "cell_type": "code",
      "source": [
        "predictions = model.predict(train_padded)\n",
        "predictions = [1 if p > 0.5 else 0 for p in predictions]"
      ],
      "metadata": {
        "id": "dIhvclTFPYd4"
      },
      "execution_count": 29,
      "outputs": []
    },
    {
      "cell_type": "code",
      "source": [
        "# Check reversing the indices\n",
        "# flip (key, value)\n",
        "reverse_word_index = dict([(idx, word) for (word, idx) in word_index.items()])"
      ],
      "metadata": {
        "id": "Zi3BnouaPhBV"
      },
      "execution_count": 30,
      "outputs": []
    },
    {
      "cell_type": "code",
      "source": [
        "def decode(sequence):\n",
        "    return \" \".join([reverse_word_index.get(idx, \"?\") for idx in sequence])"
      ],
      "metadata": {
        "id": "k_LnryhkPjTN"
      },
      "execution_count": 31,
      "outputs": []
    },
    {
      "cell_type": "code",
      "source": [
        "decoded_text = decode(train_sequences[10])\n",
        "print(train_sequences[10])\n",
        "print(decoded_text)"
      ],
      "metadata": {
        "colab": {
          "base_uri": "https://localhost:8080/"
        },
        "id": "oDZj_lykPlAt",
        "outputId": "74577492-a5da-4962-b1c2-3045113b0031"
      },
      "execution_count": 32,
      "outputs": [
        {
          "output_type": "stream",
          "name": "stdout",
          "text": [
            "[10, 124, 11, 3, 1388, 55, 6044, 3197, 5, 12, 82, 1877, 695, 390, 180, 64, 42, 257, 978, 7055, 278, 533, 763, 27057, 135, 560, 3, 2156, 55, 1388, 844, 2091, 315, 508, 4588, 355, 131, 895, 3872, 1307, 2719, 256, 142, 2, 5858, 2, 737, 142, 1185, 5255, 471, 864, 3418, 162, 186, 5394, 908, 17548, 276, 202, 1388, 55, 182, 1966, 19, 5463, 135, 58, 895, 55, 361, 629, 8350, 3750, 89, 9825, 49, 502, 1032, 910, 348, 8350, 1510, 82, 142, 64, 742, 3197, 3086, 1053, 1073, 132, 10874, 1725, 19, 641, 14, 403, 8217, 142, 6333, 43, 40, 14374, 135, 1129, 180, 5111, 710, 184, 2029, 12053, 2015, 29224, 1297, 9416, 360, 51, 282, 11953, 209, 1697, 135, 196, 156, 3, 350, 55, 278, 888, 1, 135, 31, 686, 1079, 256, 1015, 50, 2, 736, 5, 1185, 278, 888, 1, 132, 706, 323, 999, 1561, 2214, 533, 135, 131, 16, 86, 1166, 80, 209, 604, 99, 158, 55, 355, 2052, 43, 40, 1432, 142, 12522, 479, 35, 9, 955, 2010, 1152, 1446, 1358, 390, 469, 6083, 4450, 3775, 1116, 869, 8816, 1788, 2, 61, 754, 503, 28087, 1420, 1388, 55, 681, 94, 16, 1102, 31973, 3355, 80, 14, 209, 51, 3197, 1812, 1725, 55, 5204, 16, 572, 586, 135, 125, 240, 355, 2554, 2052, 158, 45606, 1397, 15330, 30557, 8708, 672, 209, 23763, 1, 4676, 12272, 135, 679, 3306, 360, 282, 51, 1297, 231, 262, 432, 75, 1374, 11954, 588, 6, 1193, 1397, 10600, 6229, 2239, 17549, 2, 742, 142, 491, 111, 1145, 2064, 3897, 73, 3460, 926, 174, 3804, 4705, 681, 361, 1607, 28088, 5798, 18, 5, 581, 1147, 542, 361, 2425, 73549, 5798, 59, 5, 3879, 2358, 1406, 14, 1488, 4, 956, 2, 729, 575, 390, 479, 1558, 20, 16, 10601, 2506, 376, 1166, 3722, 73549, 112, 28087, 5734, 142, 390, 479, 1, 5, 46, 5223, 209, 115, 544, 2477, 3016, 900, 14, 1, 142, 13898, 51, 702, 103, 2149, 5, 4334, 2592, 8916, 1031, 50807, 9573, 10601, 11334, 949, 20, 4667, 112, 853, 361, 1981, 35685, 1753, 283, 211, 17, 1300, 2052, 1432, 116837, 28087, 6360, 4368, 15975, 3036, 28087, 2223, 200, 1306, 595, 763, 142, 7, 706, 595, 618, 16, 430, 117, 193, 303, 471, 142, 12522, 2103, 8509, 31, 1019, 5581, 6677, 7, 1542, 101, 1725, 1277, 131, 266, 4793, 1649, 2599, 2052, 142, 1625, 1470, 1542, 910, 496, 384, 2, 330, 22488, 2745, 35, 1885, 327, 6206, 38256, 21, 681, 34, 231, 1152, 400, 1239, 1291, 348, 2, 1626, 5597, 479, 116838, 1452, 82, 24, 1953, 18460, 1142, 4076, 479, 1558, 20, 4667, 694, 116, 338, 2, 1, 432, 541, 1109, 223, 779, 35686, 2560, 1397, 235, 926, 14, 754, 28087, 8959, 38256, 89, 2274, 366, 15976, 82, 8510, 3, 40, 19985, 1134, 116839, 28088, 112, 1020, 210, 26, 2, 699, 17261, 3319, 33, 10, 124, 823, 33, 1489, 2, 112, 1333, 49, 281, 390, 278, 10699, 2294, 178, 1020, 6291, 147, 2, 45, 2074, 555, 402, 116840, 28088, 112, 20892, 4066, 1020, 46, 10875, 1, 28088, 1780, 46, 655, 18142]\n",
            "new york reuters us appeals court weighing arguments president donald trump’s temporary travel ban decision week may yet answer underlying legal questions raised fastmoving case th us circuit court appeals san francisco expected rule narrow question whether lower court’s emergency halt executive order trump justified trump signed order jan barring citizens seven muslimmajority countries days halted refugee entries four months appeals court several options could kick case back lower court judge james robart seattle saying premature make ruling chance consider evidence robart stopped trump’s order week issued arguments developed sides panel three appellate judges could side government find halting order harmful national security reinstating case continues decision “one step long historic case” stephen yaleloehr professor cornell university law school specializes immigration ultimately case likely end us supreme court legal experts said case first serious test executive authority since trump became president jan legal experts said three main issues play judiciary broad questions case whether states right challenge federal immigration laws much power court question president’s national security decisions order discriminates muslims washington state filed original lawsuit claiming hurt ban students faculty staterun universities corporate employees stranded overseas trump administration lawyer august flentje argued appeals court hearing tuesday states lack “standing” sue federal government immigration law arguments questioned judges court decides states allowed bring case next major question limits president’s power “historically courts exceedingly deferential governmental actions immigration area” said jonathan adler case western reserve university school law professor though added “the way carried understandably makes people perhaps courts uneasy applying traditional rules” trump issued order late friday caused chaos airports officials struggled quickly change procedures tuesday’s hearing judge richard clifton appointee republican president george w bush judge william canby appointee democratic president jimmy carter pushed government explain would happen trump simply decided ban muslims entering united states “would anybody able challenge that” canby asked flentje emphasized order ban muslims said president made determination immigration policy based legitimate assessment risk government said order grounded law passed congress allows president suspend entry “any class aliens” deems “would detrimental interests united states” asked third judge michelle friedland appointed democrat barack obama meant president’s decisions “unreviewable” flentje pause answered “yes” pressed flentje acknowledged however constitutional concerns raised order one main concerns allegations states civil rights groups lawmakers citizens order discriminates violation constitution’s first amendment prohibits favoring one religion another judges decide whether look exclusively actual text president’s order mention particular religion consider outside comments trump team discern intent washington state’s attorney noah purcell told hearing even though lawsuit early stage amount evidence trump intended discriminate muslims “remarkable” cited trump’s campaign promises “total complete shutdown muslims entering united states” tweet monday night trump said “the threat radical islamic terrorism real” urging courts act quickly government lawyer flentje countered purcell saying danger second guessing trump’s decisionmaking us security “based newspaper articles” clifton asked statements fox news trump adviser rudolph giuliani former new york mayor former prosecutor trump asked figure make muslim ban legal “do deny fact statements attributed candidate trump political advisers recently mr giuliani” clifton asked “either types statements made not” said clifton “if made potential evidence”\n"
          ]
        }
      ]
    },
    {
      "cell_type": "code",
      "source": [
        "print(train_sentences[10:20])\n",
        "print(train_labels[10:20])\n",
        "print(predictions[10:20])"
      ],
      "metadata": {
        "colab": {
          "base_uri": "https://localhost:8080/"
        },
        "id": "1RGTprugPm4l",
        "outputId": "eba323ed-bf55-4039-ddc9-381cf4e56e06"
      },
      "execution_count": 33,
      "outputs": [
        {
          "output_type": "stream",
          "name": "stdout",
          "text": [
            "['new york reuters us appeals court weighing arguments president donald trump’s temporary travel ban decision week may yet answer underlying legal questions raised fastmoving case th us circuit court appeals san francisco expected rule narrow question whether lower court’s emergency halt executive order trump justified trump signed order jan barring citizens seven muslimmajority countries days halted refugee entries four months appeals court several options could kick case back lower court judge james robart seattle saying premature make ruling chance consider evidence robart stopped trump’s order week issued arguments developed sides panel three appellate judges could side government find halting order harmful national security reinstating case continues decision “one step long historic case” stephen yaleloehr professor cornell university law school specializes immigration ultimately case likely end us supreme court legal experts said case first serious test executive authority since trump became president jan legal experts said three main issues play judiciary broad questions case whether states right challenge federal immigration laws much power court question president’s national security decisions order discriminates muslims washington state filed original lawsuit claiming hurt ban students faculty staterun universities corporate employees stranded overseas trump administration lawyer august flentje argued appeals court hearing tuesday states lack “standing” sue federal government immigration law arguments questioned judges court decides states allowed bring case next major question limits president’s power “historically courts exceedingly deferential governmental actions immigration area” said jonathan adler case western reserve university school law professor though added “the way carried understandably makes people perhaps courts uneasy applying traditional rules” trump issued order late friday caused chaos airports officials struggled quickly change procedures tuesday’s hearing judge richard clifton appointee republican president george w bush judge william canby appointee democratic president jimmy carter pushed government explain would happen trump simply decided ban muslims entering united states “would anybody able challenge that” canby asked flentje emphasized order ban muslims said president made determination immigration policy based legitimate assessment risk government said order grounded law passed congress allows president suspend entry “any class aliens” deems “would detrimental interests united states” asked third judge michelle friedland appointed democrat barack obama meant president’s decisions “unreviewable” flentje pause answered “yes” pressed flentje acknowledged however constitutional concerns raised order one main concerns allegations states civil rights groups lawmakers citizens order discriminates violation constitution’s first amendment prohibits favoring one religion another judges decide whether look exclusively actual text president’s order mention particular religion consider outside comments trump team discern intent washington state’s attorney noah purcell told hearing even though lawsuit early stage amount evidence trump intended discriminate muslims “remarkable” cited trump’s campaign promises “total complete shutdown muslims entering united states” tweet monday night trump said “the threat radical islamic terrorism real” urging courts act quickly government lawyer flentje countered purcell saying danger second guessing trump’s decisionmaking us security “based newspaper articles” clifton asked statements fox news trump adviser rudolph giuliani former new york mayor former prosecutor trump asked figure make muslim ban legal “do deny fact statements attributed candidate trump political advisers recently mr giuliani” clifton asked “either types statements made not” said clifton “if made potential evidence”'\n",
            " 'white house still trying make trump look like perfect blasted press release containing article mcclatchy titled trump first president ban foreigners time different removed several full paragraphs detailing problems legal otherwise muslim banwhat remains benign story makes sound like mcclatchy agrees trump every president didsean spicer office put first six paragraphs story ellipsis indicating material removed original story two paragraphs later another ellipsis two paragraphs another ellipsis ellipsis end one could say due available space literally removed everything critical trump left parts makes little harder justify removing material ran space four missing paragraphs reada flurry lawsuits immediately filed trump order behalf immigrants detained barred entering united states us district judge james robart republican appointee temporarily blocked order taking effect nationwide basis friday following halfdozen rulings federal judges backed limited challenges temporary stay granted generally judge believes side prevail merits case according legal expertsthey say trump executive order may rely law predecessors differs two important waysfirst much broader banning people multiple countries including whose status already determined second order could deemed unconstitutional discriminates people based religion order calls special consideration followers minority religions affected countries certain reference christiansthe difference trump order said erin corcoran immigration law professor university new hampshire law school usually presidents cite specific immediate national threats trump order target may come united states future already legal status en routethe third ellipsis press release omits paragraphssteve legomsky served senior counsel secretary homeland security immigration issues chief counsel us citizenship immigration services emeritus professor law washington university st louis said trump used power different way ever part isolate subcategory peopleformer acting attorney general sally yates obama appointee serve trump nominee lead justice department installed fired refused enforce executive order felt intended disadvantage muslims responsible ensuring positions take court remain consistent institution solemn obligation always seek justice stand right yates said letter present convinced defense executive order consistent responsibilities convinced executive order lawfulprevious presidential orders draw court challenges trigger major national debate trump orderand ellipsis end omits thisharold koh former legal adviser state department international law professor yale university said however courts would likely narrow order litigation went mark process going said could end one shadow original order highlights major differences exist order others past presidents issued evidence seven countries represent specific threat us kept tight wraps fact department justice told th circuit president intel nobody else made decision based thatthey provide intel court though despite fact courts often review classified info make proper ruling case even rules regulations place govern kind thingright trump says considering several options muslim ban including appealing supreme court issuing new order fact white house lawyers surprise surprise supposedly drafting new order say better comply lawthe white house press release include links mcclatchy story probably banking people clicking links maybe hoping people understand reading regardless dishonesty administration continues unabatedfeatured image andrew harrerpool via getty images'\n",
            " 'american citizens stop afraid stand speak politically correct thugs lefta new black lives matter textbook soon available middle school high school classroomsaccording publisher description black lives matter covers shootings touched passionate protests work activists bring legal system tensions us society events brought light abdo publishing specifies book written sixth graders high school students says textbook aligned common core standards correlated state standards authoritative text designed teach nonblack children historicalstructural inequalities productive antiblack violence us law society made available commercial consumption reads review feminist wire parents well teachers eager teach middle andor high school students routine vulnerability terror generative rejoined black lives matter find invaluable resource special report conservative radio commentator larry elder weighed fox friends weekend textbook indoctrinating young kids teaching black people victims elder saidhe argued movement would better addressing blackonblack crime black lives matter people really concerned ought say something fact last year blacks shot blacks far away number one cause preventable death young black men homicide added textbook coauthored missouri journalist sue bradford edwards duchess harris professor american studies macalester college minnesota harris also author black feminist politics kennedy obama coeditor racially writing republic racists race rebels transformations american identity black lives matter part abdo publishing special report series books aim help readers develop essential understanding current events encourage form opinions total eight titles special report series including ebola outbreak isis transgender rights issues via red alert politics'\n",
            " 'conform pay ultimate price police seized ten children grid homeschool family kentucky wednesday receiving anonymous tip family traditional lifestylethe nightmare story began sheriff officers set blockade around joe nicole naugler rural property entering premises eight kids father nicole two oldest children home nicole attempted drive away subsequently stopped arrested resisting attempting prevent officers taking two boys awaythe sheriff demanded joe naugler turn eight children next day face felony charges order complied extremely happy family said family friend pace ellsworth asserts nauglers targeted back basics life decision homeschool childrenfriends reported concerns children treated parents follow educational model called unschooling children decide curriculum based subjects interest strengths natural way live said ellsworth actually growing movement want personal education factory education completely open life everyone learning living extremely intelligent family facebook page entitled blessed little homestead charming testament way life naugler children obviously living blissful free range lifestyle amongst acres land breckinridge county frequently post pictures videos children animals offgrid life reports grid news may post showed video toddler mosiah learning walk april post showed happy family gathering around campfire roasting marshmallows family set gofundme page try raise money legal expensesa website family spells plight heartwrenching words kentucky family people dogs farm cats random farm animals torn apart crime living simple back basics life shocking story illustrates families attempting simply get lives traditional manner treated extremists americans snitched targeted authoritieshere facebook link nagger family business blessed little grooming company llcvia infowars'\n",
            " 'washington reuters chicago tribune endorsed senator marco rubio republican presidential race wednesday week illinois’ winnertakeall presidential primary newspaper state’s leading city credited rubio’s embrace spending limits lineitem veto balanced budget amendment “crucially foreign affairs expertise vastly exceeds rivals” said reporting doina chiacu editing mohammad zargham article funded part sap independently created reuters editorial staff sap editorial involvement creation production'\n",
            " 'nairobi reuters kenya president uhuru kenyatta said monday expects opposition challenge victory oct repeat presidential election court dialogue must wait process done victory today part process likely subjected constitutional test courts submit constitutional path regardless outcome kenyatta said acceptance speech going ask going engage dialogue let opposition first foremost exhaust constitutional options'\n",
            " 'unique way president united states spend memorial day weekend apologizing nation wanted destroy us defeated brave men gave defend nation evil every visit repulsive apologist president makes foreign country calculated hard imagine reason campaigning un secretary general visits makes way around communist former enemy nations apologizing america transgressions america survive months still remain traitor term president barack obama delivered pious antiwar address hiroshima highlighting humanity core contradiction war lamenting humanity tried justify war religion easily learn justify violence name higher cause said every great religion promises pathway love peace righteousness yet religion spared believers claimed faith license kill obama blamed religious zeal nationalist fervor inspiring humankind war throughout history urged world seek future filled peacewatch markhttpsyoutubeikifwvomothe president explicitly apologize america using nuclear bomb end world war ii rhetorically painted vivid scene bomb wasted entire city death fell sky world changed said pointing wall fire ended lives thousands people souls speak us ask us look inward take stock might become saidthe president delivered speech hiroshima peace memorial park hiroshima laid wreath memorial met survivors nuclear attackobama wrestled mankind history using science technological innovation destroy asserted nuclear bombs ended world war ii proved horror mankind possessed means destroy yet image mushroom cloud rose skies starkly reminded humanity core contradiction saidhe argued time united states countries nuclear weapons disarm stockpiles must courage escape logic fear pursue world without said via breitbart news'\n",
            " 'washington reuters tentative plans us secretary state john kerry visit cuba midmarch human rights dialogue canceled two us officials said thursday amid concerns cuban government’s human rights record kerry told congressional hearing feb might cuba “in next week two” hold dialogue human rights ahead president barack obama’s scheduled trip island march sources said trip canceled us cuban officials deep negotiations issues including dissidents obama might see havana trip timeframe kerry mentioned seen constructive state department spokesman john kirby said updates regarding kerry’s potential travel cuba “the secretary still interested visiting near future working cuban counterparts embassy determine best timeframe” kirby said emailed statement us critics obama’s opening cuba complained president received little return restoring diplomatic relations former cold war foe feb cuban government granted seven dissidents prison parole onetime permission travel outside country apparent gesture united states ahead obama’s historic visit'\n",
            " 'taipei reuters taiwan increase future defense spending two percent year president tsai ingwen said visit hawaii united states expressed concern possible military imbalance taiwan straits taiwan media reported event taiwan purchases arms foreign military island defense spending could increase much three percent year could possibly increase using special budget significant purchase cases made tsai said remarks carried official media monday tsai made comments response us concerns possible military imbalance taiwan strait expressed ambassador james moriarty meeting tsai elaborate increased defense spending would start tsai comments reflected national security council deputy secretarygeneral tsai mingyen recounted official media conversation tsai moriarty chairman us mission taiwan expanding taiwan national defense policy moriarty expressed concern china doubledigit growth defense investments last years taiwan would need address possible military imbalance taiwan strait deputy secretarygeneral tsai recounted president tsai turn replied taiwan would develop comprehensive plan accordance strategic needs shortterm needs longterm plans create defense forces island would reliable combat effectiveness tsai visited hawaii weekend way three taiwan diplomatic allies pacific despite china considers taiwan wayward province calling united states stop trip trip comes week us president donald trump visits asia china increased pressure taiwan since tsai took office last year suspecting wants push formal independence china conducted military drills around taiwan peeled away remaining diplomatic allies tsai described taiwanus relations unprecedentedly friendly comments released taiwan presidential office monday happy see us promises peace stability asiapacific region meetings united states understand necessity increase investment defense quoted saying united states taiwan formal diplomatic relations since washington established ties beijing united states bound law provide taiwan means defend taiwan well armed mostly usmade weapons pushing sales advanced equipment fighter jets deal taipei sees growing threat china rapidly modernizing armed forces china never renounced use force bring taiwan control regularly calls taiwan sensitive important issue united states upset us moves expand military exchanges taiwan continued us arms sales island tsai stopover hawaii included tour pearl harbor memorial banquet overseas taiwan community joint speeches moriarty chairman us mission taiwan also known american institute taiwan second us visit year january tsai stopped houston san francisco way latin america tsai moves visit marshall islands tuvalu solomon islands monday weeklong trip stop us territory guam way back taiwan'\n",
            " 'religion peace spends spring break jihadis attacked two hotels beach resort town southern ivory coast packed european tourists men woman children reported victims gunfire erupted ivory coast beach resort popular western touristslocal reports also speak assailants masked carrying grenades well guns unconfirmed reports suggest may shouted allahu akbar allah greater gdthis mimics monstrous beach attacks tunisia june isis urging fellow muslims worldwide mimic slaughter tunisia attack beaches resorts westerners vacationing enjoying livesthe government said victims include five men five women one child specify reflected deaths injuriesan afp journalist reported seeing around dozen people including injured western woman evacuated military truckthe telegraph uk fran ois hollande french president said statement strongly condemns cowardly attack caused death least ten civilians including least one french national several members security forces grand bassam local media cited hotel employee named jb beugr saying gunmen arrived fishing boat attack lasted three hours according doctor bassam main hospital two dead injured people brought ina witness told french broadcaster bfmtv saw body european woman two three hooded shooters involvedvia pamela gellar']\n",
            "[1 0 0 0 1 1 0 1 1 0]\n",
            "[1, 0, 0, 0, 1, 1, 0, 1, 1, 0]\n"
          ]
        }
      ]
    }
  ]
}